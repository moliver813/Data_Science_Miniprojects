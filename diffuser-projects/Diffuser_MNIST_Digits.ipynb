{
  "nbformat": 4,
  "nbformat_minor": 0,
  "metadata": {
    "colab": {
      "provenance": [],
      "gpuType": "V100",
      "authorship_tag": "ABX9TyMZarXH0qLfXUnwZ4S8mBOQ",
      "include_colab_link": true
    },
    "kernelspec": {
      "name": "python3",
      "display_name": "Python 3"
    },
    "language_info": {
      "name": "python"
    },
    "accelerator": "GPU",
    "widgets": {
      "application/vnd.jupyter.widget-state+json": {
        "6e0fe7e5029b4f1487a731f960ccf194": {
          "model_module": "@jupyter-widgets/controls",
          "model_name": "HBoxModel",
          "model_module_version": "1.5.0",
          "state": {
            "_dom_classes": [],
            "_model_module": "@jupyter-widgets/controls",
            "_model_module_version": "1.5.0",
            "_model_name": "HBoxModel",
            "_view_count": null,
            "_view_module": "@jupyter-widgets/controls",
            "_view_module_version": "1.5.0",
            "_view_name": "HBoxView",
            "box_style": "",
            "children": [
              "IPY_MODEL_0aac992a0893477ca818083e4636c042",
              "IPY_MODEL_aad9bbc48cb04641ba0723a27bf8fcfa",
              "IPY_MODEL_2848f278c95545c781957369ebd4748f"
            ],
            "layout": "IPY_MODEL_a356777afab7403081fbd7c317808d34"
          }
        },
        "0aac992a0893477ca818083e4636c042": {
          "model_module": "@jupyter-widgets/controls",
          "model_name": "HTMLModel",
          "model_module_version": "1.5.0",
          "state": {
            "_dom_classes": [],
            "_model_module": "@jupyter-widgets/controls",
            "_model_module_version": "1.5.0",
            "_model_name": "HTMLModel",
            "_view_count": null,
            "_view_module": "@jupyter-widgets/controls",
            "_view_module_version": "1.5.0",
            "_view_name": "HTMLView",
            "description": "",
            "description_tooltip": null,
            "layout": "IPY_MODEL_6079786853fe428091bb7ccaff690b85",
            "placeholder": "​",
            "style": "IPY_MODEL_a2945d1f909440908e15957b89dae682",
            "value": "100%"
          }
        },
        "aad9bbc48cb04641ba0723a27bf8fcfa": {
          "model_module": "@jupyter-widgets/controls",
          "model_name": "FloatProgressModel",
          "model_module_version": "1.5.0",
          "state": {
            "_dom_classes": [],
            "_model_module": "@jupyter-widgets/controls",
            "_model_module_version": "1.5.0",
            "_model_name": "FloatProgressModel",
            "_view_count": null,
            "_view_module": "@jupyter-widgets/controls",
            "_view_module_version": "1.5.0",
            "_view_name": "ProgressView",
            "bar_style": "success",
            "description": "",
            "description_tooltip": null,
            "layout": "IPY_MODEL_41d3532c4ad84f8588217ace23837965",
            "max": 250,
            "min": 0,
            "orientation": "horizontal",
            "style": "IPY_MODEL_b59e2f91efa148bc8426916f8be221fc",
            "value": 250
          }
        },
        "2848f278c95545c781957369ebd4748f": {
          "model_module": "@jupyter-widgets/controls",
          "model_name": "HTMLModel",
          "model_module_version": "1.5.0",
          "state": {
            "_dom_classes": [],
            "_model_module": "@jupyter-widgets/controls",
            "_model_module_version": "1.5.0",
            "_model_name": "HTMLModel",
            "_view_count": null,
            "_view_module": "@jupyter-widgets/controls",
            "_view_module_version": "1.5.0",
            "_view_name": "HTMLView",
            "description": "",
            "description_tooltip": null,
            "layout": "IPY_MODEL_ae74ffd60a124288a5ec2bfa50b1fe51",
            "placeholder": "​",
            "style": "IPY_MODEL_44165c876ee4469fb8f4790e561caeca",
            "value": " 250/250 [00:02&lt;00:00, 103.87it/s]"
          }
        },
        "a356777afab7403081fbd7c317808d34": {
          "model_module": "@jupyter-widgets/base",
          "model_name": "LayoutModel",
          "model_module_version": "1.2.0",
          "state": {
            "_model_module": "@jupyter-widgets/base",
            "_model_module_version": "1.2.0",
            "_model_name": "LayoutModel",
            "_view_count": null,
            "_view_module": "@jupyter-widgets/base",
            "_view_module_version": "1.2.0",
            "_view_name": "LayoutView",
            "align_content": null,
            "align_items": null,
            "align_self": null,
            "border": null,
            "bottom": null,
            "display": null,
            "flex": null,
            "flex_flow": null,
            "grid_area": null,
            "grid_auto_columns": null,
            "grid_auto_flow": null,
            "grid_auto_rows": null,
            "grid_column": null,
            "grid_gap": null,
            "grid_row": null,
            "grid_template_areas": null,
            "grid_template_columns": null,
            "grid_template_rows": null,
            "height": null,
            "justify_content": null,
            "justify_items": null,
            "left": null,
            "margin": null,
            "max_height": null,
            "max_width": null,
            "min_height": null,
            "min_width": null,
            "object_fit": null,
            "object_position": null,
            "order": null,
            "overflow": null,
            "overflow_x": null,
            "overflow_y": null,
            "padding": null,
            "right": null,
            "top": null,
            "visibility": null,
            "width": null
          }
        },
        "6079786853fe428091bb7ccaff690b85": {
          "model_module": "@jupyter-widgets/base",
          "model_name": "LayoutModel",
          "model_module_version": "1.2.0",
          "state": {
            "_model_module": "@jupyter-widgets/base",
            "_model_module_version": "1.2.0",
            "_model_name": "LayoutModel",
            "_view_count": null,
            "_view_module": "@jupyter-widgets/base",
            "_view_module_version": "1.2.0",
            "_view_name": "LayoutView",
            "align_content": null,
            "align_items": null,
            "align_self": null,
            "border": null,
            "bottom": null,
            "display": null,
            "flex": null,
            "flex_flow": null,
            "grid_area": null,
            "grid_auto_columns": null,
            "grid_auto_flow": null,
            "grid_auto_rows": null,
            "grid_column": null,
            "grid_gap": null,
            "grid_row": null,
            "grid_template_areas": null,
            "grid_template_columns": null,
            "grid_template_rows": null,
            "height": null,
            "justify_content": null,
            "justify_items": null,
            "left": null,
            "margin": null,
            "max_height": null,
            "max_width": null,
            "min_height": null,
            "min_width": null,
            "object_fit": null,
            "object_position": null,
            "order": null,
            "overflow": null,
            "overflow_x": null,
            "overflow_y": null,
            "padding": null,
            "right": null,
            "top": null,
            "visibility": null,
            "width": null
          }
        },
        "a2945d1f909440908e15957b89dae682": {
          "model_module": "@jupyter-widgets/controls",
          "model_name": "DescriptionStyleModel",
          "model_module_version": "1.5.0",
          "state": {
            "_model_module": "@jupyter-widgets/controls",
            "_model_module_version": "1.5.0",
            "_model_name": "DescriptionStyleModel",
            "_view_count": null,
            "_view_module": "@jupyter-widgets/base",
            "_view_module_version": "1.2.0",
            "_view_name": "StyleView",
            "description_width": ""
          }
        },
        "41d3532c4ad84f8588217ace23837965": {
          "model_module": "@jupyter-widgets/base",
          "model_name": "LayoutModel",
          "model_module_version": "1.2.0",
          "state": {
            "_model_module": "@jupyter-widgets/base",
            "_model_module_version": "1.2.0",
            "_model_name": "LayoutModel",
            "_view_count": null,
            "_view_module": "@jupyter-widgets/base",
            "_view_module_version": "1.2.0",
            "_view_name": "LayoutView",
            "align_content": null,
            "align_items": null,
            "align_self": null,
            "border": null,
            "bottom": null,
            "display": null,
            "flex": null,
            "flex_flow": null,
            "grid_area": null,
            "grid_auto_columns": null,
            "grid_auto_flow": null,
            "grid_auto_rows": null,
            "grid_column": null,
            "grid_gap": null,
            "grid_row": null,
            "grid_template_areas": null,
            "grid_template_columns": null,
            "grid_template_rows": null,
            "height": null,
            "justify_content": null,
            "justify_items": null,
            "left": null,
            "margin": null,
            "max_height": null,
            "max_width": null,
            "min_height": null,
            "min_width": null,
            "object_fit": null,
            "object_position": null,
            "order": null,
            "overflow": null,
            "overflow_x": null,
            "overflow_y": null,
            "padding": null,
            "right": null,
            "top": null,
            "visibility": null,
            "width": null
          }
        },
        "b59e2f91efa148bc8426916f8be221fc": {
          "model_module": "@jupyter-widgets/controls",
          "model_name": "ProgressStyleModel",
          "model_module_version": "1.5.0",
          "state": {
            "_model_module": "@jupyter-widgets/controls",
            "_model_module_version": "1.5.0",
            "_model_name": "ProgressStyleModel",
            "_view_count": null,
            "_view_module": "@jupyter-widgets/base",
            "_view_module_version": "1.2.0",
            "_view_name": "StyleView",
            "bar_color": null,
            "description_width": ""
          }
        },
        "ae74ffd60a124288a5ec2bfa50b1fe51": {
          "model_module": "@jupyter-widgets/base",
          "model_name": "LayoutModel",
          "model_module_version": "1.2.0",
          "state": {
            "_model_module": "@jupyter-widgets/base",
            "_model_module_version": "1.2.0",
            "_model_name": "LayoutModel",
            "_view_count": null,
            "_view_module": "@jupyter-widgets/base",
            "_view_module_version": "1.2.0",
            "_view_name": "LayoutView",
            "align_content": null,
            "align_items": null,
            "align_self": null,
            "border": null,
            "bottom": null,
            "display": null,
            "flex": null,
            "flex_flow": null,
            "grid_area": null,
            "grid_auto_columns": null,
            "grid_auto_flow": null,
            "grid_auto_rows": null,
            "grid_column": null,
            "grid_gap": null,
            "grid_row": null,
            "grid_template_areas": null,
            "grid_template_columns": null,
            "grid_template_rows": null,
            "height": null,
            "justify_content": null,
            "justify_items": null,
            "left": null,
            "margin": null,
            "max_height": null,
            "max_width": null,
            "min_height": null,
            "min_width": null,
            "object_fit": null,
            "object_position": null,
            "order": null,
            "overflow": null,
            "overflow_x": null,
            "overflow_y": null,
            "padding": null,
            "right": null,
            "top": null,
            "visibility": null,
            "width": null
          }
        },
        "44165c876ee4469fb8f4790e561caeca": {
          "model_module": "@jupyter-widgets/controls",
          "model_name": "DescriptionStyleModel",
          "model_module_version": "1.5.0",
          "state": {
            "_model_module": "@jupyter-widgets/controls",
            "_model_module_version": "1.5.0",
            "_model_name": "DescriptionStyleModel",
            "_view_count": null,
            "_view_module": "@jupyter-widgets/base",
            "_view_module_version": "1.2.0",
            "_view_name": "StyleView",
            "description_width": ""
          }
        },
        "c365570dd2b549e8810c07bb97e6f1b5": {
          "model_module": "@jupyter-widgets/controls",
          "model_name": "HBoxModel",
          "model_module_version": "1.5.0",
          "state": {
            "_dom_classes": [],
            "_model_module": "@jupyter-widgets/controls",
            "_model_module_version": "1.5.0",
            "_model_name": "HBoxModel",
            "_view_count": null,
            "_view_module": "@jupyter-widgets/controls",
            "_view_module_version": "1.5.0",
            "_view_name": "HBoxView",
            "box_style": "",
            "children": [
              "IPY_MODEL_711776f6fb224fb3b5d73a5ab4d53835",
              "IPY_MODEL_ff8164a9e4af498f9b6ec82d36ca2050",
              "IPY_MODEL_88f98c33736d4c8ab3acbcee6bcd4dfa"
            ],
            "layout": "IPY_MODEL_91f9352ba82f41a1bff11cc8acee5d7e"
          }
        },
        "711776f6fb224fb3b5d73a5ab4d53835": {
          "model_module": "@jupyter-widgets/controls",
          "model_name": "HTMLModel",
          "model_module_version": "1.5.0",
          "state": {
            "_dom_classes": [],
            "_model_module": "@jupyter-widgets/controls",
            "_model_module_version": "1.5.0",
            "_model_name": "HTMLModel",
            "_view_count": null,
            "_view_module": "@jupyter-widgets/controls",
            "_view_module_version": "1.5.0",
            "_view_name": "HTMLView",
            "description": "",
            "description_tooltip": null,
            "layout": "IPY_MODEL_b2fa17d9fce8439c932aa5b1ea930223",
            "placeholder": "​",
            "style": "IPY_MODEL_5b4eae4148d94120bc4b164ffa0f29d3",
            "value": "100%"
          }
        },
        "ff8164a9e4af498f9b6ec82d36ca2050": {
          "model_module": "@jupyter-widgets/controls",
          "model_name": "FloatProgressModel",
          "model_module_version": "1.5.0",
          "state": {
            "_dom_classes": [],
            "_model_module": "@jupyter-widgets/controls",
            "_model_module_version": "1.5.0",
            "_model_name": "FloatProgressModel",
            "_view_count": null,
            "_view_module": "@jupyter-widgets/controls",
            "_view_module_version": "1.5.0",
            "_view_name": "ProgressView",
            "bar_style": "success",
            "description": "",
            "description_tooltip": null,
            "layout": "IPY_MODEL_0d63574c396e4088911560b01e0be723",
            "max": 250,
            "min": 0,
            "orientation": "horizontal",
            "style": "IPY_MODEL_20230ad27f184f96bed350e1e5f1b154",
            "value": 250
          }
        },
        "88f98c33736d4c8ab3acbcee6bcd4dfa": {
          "model_module": "@jupyter-widgets/controls",
          "model_name": "HTMLModel",
          "model_module_version": "1.5.0",
          "state": {
            "_dom_classes": [],
            "_model_module": "@jupyter-widgets/controls",
            "_model_module_version": "1.5.0",
            "_model_name": "HTMLModel",
            "_view_count": null,
            "_view_module": "@jupyter-widgets/controls",
            "_view_module_version": "1.5.0",
            "_view_name": "HTMLView",
            "description": "",
            "description_tooltip": null,
            "layout": "IPY_MODEL_798e3cc20e4d40f0951e6688ab00d662",
            "placeholder": "​",
            "style": "IPY_MODEL_96ac3bc2957b4e3fb1c0f3dee50e3020",
            "value": " 250/250 [00:02&lt;00:00, 104.30it/s]"
          }
        },
        "91f9352ba82f41a1bff11cc8acee5d7e": {
          "model_module": "@jupyter-widgets/base",
          "model_name": "LayoutModel",
          "model_module_version": "1.2.0",
          "state": {
            "_model_module": "@jupyter-widgets/base",
            "_model_module_version": "1.2.0",
            "_model_name": "LayoutModel",
            "_view_count": null,
            "_view_module": "@jupyter-widgets/base",
            "_view_module_version": "1.2.0",
            "_view_name": "LayoutView",
            "align_content": null,
            "align_items": null,
            "align_self": null,
            "border": null,
            "bottom": null,
            "display": null,
            "flex": null,
            "flex_flow": null,
            "grid_area": null,
            "grid_auto_columns": null,
            "grid_auto_flow": null,
            "grid_auto_rows": null,
            "grid_column": null,
            "grid_gap": null,
            "grid_row": null,
            "grid_template_areas": null,
            "grid_template_columns": null,
            "grid_template_rows": null,
            "height": null,
            "justify_content": null,
            "justify_items": null,
            "left": null,
            "margin": null,
            "max_height": null,
            "max_width": null,
            "min_height": null,
            "min_width": null,
            "object_fit": null,
            "object_position": null,
            "order": null,
            "overflow": null,
            "overflow_x": null,
            "overflow_y": null,
            "padding": null,
            "right": null,
            "top": null,
            "visibility": null,
            "width": null
          }
        },
        "b2fa17d9fce8439c932aa5b1ea930223": {
          "model_module": "@jupyter-widgets/base",
          "model_name": "LayoutModel",
          "model_module_version": "1.2.0",
          "state": {
            "_model_module": "@jupyter-widgets/base",
            "_model_module_version": "1.2.0",
            "_model_name": "LayoutModel",
            "_view_count": null,
            "_view_module": "@jupyter-widgets/base",
            "_view_module_version": "1.2.0",
            "_view_name": "LayoutView",
            "align_content": null,
            "align_items": null,
            "align_self": null,
            "border": null,
            "bottom": null,
            "display": null,
            "flex": null,
            "flex_flow": null,
            "grid_area": null,
            "grid_auto_columns": null,
            "grid_auto_flow": null,
            "grid_auto_rows": null,
            "grid_column": null,
            "grid_gap": null,
            "grid_row": null,
            "grid_template_areas": null,
            "grid_template_columns": null,
            "grid_template_rows": null,
            "height": null,
            "justify_content": null,
            "justify_items": null,
            "left": null,
            "margin": null,
            "max_height": null,
            "max_width": null,
            "min_height": null,
            "min_width": null,
            "object_fit": null,
            "object_position": null,
            "order": null,
            "overflow": null,
            "overflow_x": null,
            "overflow_y": null,
            "padding": null,
            "right": null,
            "top": null,
            "visibility": null,
            "width": null
          }
        },
        "5b4eae4148d94120bc4b164ffa0f29d3": {
          "model_module": "@jupyter-widgets/controls",
          "model_name": "DescriptionStyleModel",
          "model_module_version": "1.5.0",
          "state": {
            "_model_module": "@jupyter-widgets/controls",
            "_model_module_version": "1.5.0",
            "_model_name": "DescriptionStyleModel",
            "_view_count": null,
            "_view_module": "@jupyter-widgets/base",
            "_view_module_version": "1.2.0",
            "_view_name": "StyleView",
            "description_width": ""
          }
        },
        "0d63574c396e4088911560b01e0be723": {
          "model_module": "@jupyter-widgets/base",
          "model_name": "LayoutModel",
          "model_module_version": "1.2.0",
          "state": {
            "_model_module": "@jupyter-widgets/base",
            "_model_module_version": "1.2.0",
            "_model_name": "LayoutModel",
            "_view_count": null,
            "_view_module": "@jupyter-widgets/base",
            "_view_module_version": "1.2.0",
            "_view_name": "LayoutView",
            "align_content": null,
            "align_items": null,
            "align_self": null,
            "border": null,
            "bottom": null,
            "display": null,
            "flex": null,
            "flex_flow": null,
            "grid_area": null,
            "grid_auto_columns": null,
            "grid_auto_flow": null,
            "grid_auto_rows": null,
            "grid_column": null,
            "grid_gap": null,
            "grid_row": null,
            "grid_template_areas": null,
            "grid_template_columns": null,
            "grid_template_rows": null,
            "height": null,
            "justify_content": null,
            "justify_items": null,
            "left": null,
            "margin": null,
            "max_height": null,
            "max_width": null,
            "min_height": null,
            "min_width": null,
            "object_fit": null,
            "object_position": null,
            "order": null,
            "overflow": null,
            "overflow_x": null,
            "overflow_y": null,
            "padding": null,
            "right": null,
            "top": null,
            "visibility": null,
            "width": null
          }
        },
        "20230ad27f184f96bed350e1e5f1b154": {
          "model_module": "@jupyter-widgets/controls",
          "model_name": "ProgressStyleModel",
          "model_module_version": "1.5.0",
          "state": {
            "_model_module": "@jupyter-widgets/controls",
            "_model_module_version": "1.5.0",
            "_model_name": "ProgressStyleModel",
            "_view_count": null,
            "_view_module": "@jupyter-widgets/base",
            "_view_module_version": "1.2.0",
            "_view_name": "StyleView",
            "bar_color": null,
            "description_width": ""
          }
        },
        "798e3cc20e4d40f0951e6688ab00d662": {
          "model_module": "@jupyter-widgets/base",
          "model_name": "LayoutModel",
          "model_module_version": "1.2.0",
          "state": {
            "_model_module": "@jupyter-widgets/base",
            "_model_module_version": "1.2.0",
            "_model_name": "LayoutModel",
            "_view_count": null,
            "_view_module": "@jupyter-widgets/base",
            "_view_module_version": "1.2.0",
            "_view_name": "LayoutView",
            "align_content": null,
            "align_items": null,
            "align_self": null,
            "border": null,
            "bottom": null,
            "display": null,
            "flex": null,
            "flex_flow": null,
            "grid_area": null,
            "grid_auto_columns": null,
            "grid_auto_flow": null,
            "grid_auto_rows": null,
            "grid_column": null,
            "grid_gap": null,
            "grid_row": null,
            "grid_template_areas": null,
            "grid_template_columns": null,
            "grid_template_rows": null,
            "height": null,
            "justify_content": null,
            "justify_items": null,
            "left": null,
            "margin": null,
            "max_height": null,
            "max_width": null,
            "min_height": null,
            "min_width": null,
            "object_fit": null,
            "object_position": null,
            "order": null,
            "overflow": null,
            "overflow_x": null,
            "overflow_y": null,
            "padding": null,
            "right": null,
            "top": null,
            "visibility": null,
            "width": null
          }
        },
        "96ac3bc2957b4e3fb1c0f3dee50e3020": {
          "model_module": "@jupyter-widgets/controls",
          "model_name": "DescriptionStyleModel",
          "model_module_version": "1.5.0",
          "state": {
            "_model_module": "@jupyter-widgets/controls",
            "_model_module_version": "1.5.0",
            "_model_name": "DescriptionStyleModel",
            "_view_count": null,
            "_view_module": "@jupyter-widgets/base",
            "_view_module_version": "1.2.0",
            "_view_name": "StyleView",
            "description_width": ""
          }
        },
        "22129fd2f82f4bf3a6df35ba37c0e00d": {
          "model_module": "@jupyter-widgets/controls",
          "model_name": "HBoxModel",
          "model_module_version": "1.5.0",
          "state": {
            "_dom_classes": [],
            "_model_module": "@jupyter-widgets/controls",
            "_model_module_version": "1.5.0",
            "_model_name": "HBoxModel",
            "_view_count": null,
            "_view_module": "@jupyter-widgets/controls",
            "_view_module_version": "1.5.0",
            "_view_name": "HBoxView",
            "box_style": "",
            "children": [
              "IPY_MODEL_5b3fdd6e5f1a4ffa8951769bca5df718",
              "IPY_MODEL_94777d42a9304bf6acb38967b13dcb36",
              "IPY_MODEL_1f34fc01b8254e3b8edc05b5da8f81d1"
            ],
            "layout": "IPY_MODEL_5d02e532085a408d85d452ee05bccb1b"
          }
        },
        "5b3fdd6e5f1a4ffa8951769bca5df718": {
          "model_module": "@jupyter-widgets/controls",
          "model_name": "HTMLModel",
          "model_module_version": "1.5.0",
          "state": {
            "_dom_classes": [],
            "_model_module": "@jupyter-widgets/controls",
            "_model_module_version": "1.5.0",
            "_model_name": "HTMLModel",
            "_view_count": null,
            "_view_module": "@jupyter-widgets/controls",
            "_view_module_version": "1.5.0",
            "_view_name": "HTMLView",
            "description": "",
            "description_tooltip": null,
            "layout": "IPY_MODEL_0b4e0e2890f34b6984d4fb950301a990",
            "placeholder": "​",
            "style": "IPY_MODEL_3c6ac5f0b25a476fb1835faf8310ef7a",
            "value": "100%"
          }
        },
        "94777d42a9304bf6acb38967b13dcb36": {
          "model_module": "@jupyter-widgets/controls",
          "model_name": "FloatProgressModel",
          "model_module_version": "1.5.0",
          "state": {
            "_dom_classes": [],
            "_model_module": "@jupyter-widgets/controls",
            "_model_module_version": "1.5.0",
            "_model_name": "FloatProgressModel",
            "_view_count": null,
            "_view_module": "@jupyter-widgets/controls",
            "_view_module_version": "1.5.0",
            "_view_name": "ProgressView",
            "bar_style": "success",
            "description": "",
            "description_tooltip": null,
            "layout": "IPY_MODEL_3349af7fcd60434580e84be61208f232",
            "max": 250,
            "min": 0,
            "orientation": "horizontal",
            "style": "IPY_MODEL_c6468138dbfb4e88b7024c85f67e932c",
            "value": 250
          }
        },
        "1f34fc01b8254e3b8edc05b5da8f81d1": {
          "model_module": "@jupyter-widgets/controls",
          "model_name": "HTMLModel",
          "model_module_version": "1.5.0",
          "state": {
            "_dom_classes": [],
            "_model_module": "@jupyter-widgets/controls",
            "_model_module_version": "1.5.0",
            "_model_name": "HTMLModel",
            "_view_count": null,
            "_view_module": "@jupyter-widgets/controls",
            "_view_module_version": "1.5.0",
            "_view_name": "HTMLView",
            "description": "",
            "description_tooltip": null,
            "layout": "IPY_MODEL_06055a2ef6d24089ae5ea94b116fdd3f",
            "placeholder": "​",
            "style": "IPY_MODEL_22f66e73cf844582ad0daf3e44b2923a",
            "value": " 250/250 [00:02&lt;00:00, 110.26it/s]"
          }
        },
        "5d02e532085a408d85d452ee05bccb1b": {
          "model_module": "@jupyter-widgets/base",
          "model_name": "LayoutModel",
          "model_module_version": "1.2.0",
          "state": {
            "_model_module": "@jupyter-widgets/base",
            "_model_module_version": "1.2.0",
            "_model_name": "LayoutModel",
            "_view_count": null,
            "_view_module": "@jupyter-widgets/base",
            "_view_module_version": "1.2.0",
            "_view_name": "LayoutView",
            "align_content": null,
            "align_items": null,
            "align_self": null,
            "border": null,
            "bottom": null,
            "display": null,
            "flex": null,
            "flex_flow": null,
            "grid_area": null,
            "grid_auto_columns": null,
            "grid_auto_flow": null,
            "grid_auto_rows": null,
            "grid_column": null,
            "grid_gap": null,
            "grid_row": null,
            "grid_template_areas": null,
            "grid_template_columns": null,
            "grid_template_rows": null,
            "height": null,
            "justify_content": null,
            "justify_items": null,
            "left": null,
            "margin": null,
            "max_height": null,
            "max_width": null,
            "min_height": null,
            "min_width": null,
            "object_fit": null,
            "object_position": null,
            "order": null,
            "overflow": null,
            "overflow_x": null,
            "overflow_y": null,
            "padding": null,
            "right": null,
            "top": null,
            "visibility": null,
            "width": null
          }
        },
        "0b4e0e2890f34b6984d4fb950301a990": {
          "model_module": "@jupyter-widgets/base",
          "model_name": "LayoutModel",
          "model_module_version": "1.2.0",
          "state": {
            "_model_module": "@jupyter-widgets/base",
            "_model_module_version": "1.2.0",
            "_model_name": "LayoutModel",
            "_view_count": null,
            "_view_module": "@jupyter-widgets/base",
            "_view_module_version": "1.2.0",
            "_view_name": "LayoutView",
            "align_content": null,
            "align_items": null,
            "align_self": null,
            "border": null,
            "bottom": null,
            "display": null,
            "flex": null,
            "flex_flow": null,
            "grid_area": null,
            "grid_auto_columns": null,
            "grid_auto_flow": null,
            "grid_auto_rows": null,
            "grid_column": null,
            "grid_gap": null,
            "grid_row": null,
            "grid_template_areas": null,
            "grid_template_columns": null,
            "grid_template_rows": null,
            "height": null,
            "justify_content": null,
            "justify_items": null,
            "left": null,
            "margin": null,
            "max_height": null,
            "max_width": null,
            "min_height": null,
            "min_width": null,
            "object_fit": null,
            "object_position": null,
            "order": null,
            "overflow": null,
            "overflow_x": null,
            "overflow_y": null,
            "padding": null,
            "right": null,
            "top": null,
            "visibility": null,
            "width": null
          }
        },
        "3c6ac5f0b25a476fb1835faf8310ef7a": {
          "model_module": "@jupyter-widgets/controls",
          "model_name": "DescriptionStyleModel",
          "model_module_version": "1.5.0",
          "state": {
            "_model_module": "@jupyter-widgets/controls",
            "_model_module_version": "1.5.0",
            "_model_name": "DescriptionStyleModel",
            "_view_count": null,
            "_view_module": "@jupyter-widgets/base",
            "_view_module_version": "1.2.0",
            "_view_name": "StyleView",
            "description_width": ""
          }
        },
        "3349af7fcd60434580e84be61208f232": {
          "model_module": "@jupyter-widgets/base",
          "model_name": "LayoutModel",
          "model_module_version": "1.2.0",
          "state": {
            "_model_module": "@jupyter-widgets/base",
            "_model_module_version": "1.2.0",
            "_model_name": "LayoutModel",
            "_view_count": null,
            "_view_module": "@jupyter-widgets/base",
            "_view_module_version": "1.2.0",
            "_view_name": "LayoutView",
            "align_content": null,
            "align_items": null,
            "align_self": null,
            "border": null,
            "bottom": null,
            "display": null,
            "flex": null,
            "flex_flow": null,
            "grid_area": null,
            "grid_auto_columns": null,
            "grid_auto_flow": null,
            "grid_auto_rows": null,
            "grid_column": null,
            "grid_gap": null,
            "grid_row": null,
            "grid_template_areas": null,
            "grid_template_columns": null,
            "grid_template_rows": null,
            "height": null,
            "justify_content": null,
            "justify_items": null,
            "left": null,
            "margin": null,
            "max_height": null,
            "max_width": null,
            "min_height": null,
            "min_width": null,
            "object_fit": null,
            "object_position": null,
            "order": null,
            "overflow": null,
            "overflow_x": null,
            "overflow_y": null,
            "padding": null,
            "right": null,
            "top": null,
            "visibility": null,
            "width": null
          }
        },
        "c6468138dbfb4e88b7024c85f67e932c": {
          "model_module": "@jupyter-widgets/controls",
          "model_name": "ProgressStyleModel",
          "model_module_version": "1.5.0",
          "state": {
            "_model_module": "@jupyter-widgets/controls",
            "_model_module_version": "1.5.0",
            "_model_name": "ProgressStyleModel",
            "_view_count": null,
            "_view_module": "@jupyter-widgets/base",
            "_view_module_version": "1.2.0",
            "_view_name": "StyleView",
            "bar_color": null,
            "description_width": ""
          }
        },
        "06055a2ef6d24089ae5ea94b116fdd3f": {
          "model_module": "@jupyter-widgets/base",
          "model_name": "LayoutModel",
          "model_module_version": "1.2.0",
          "state": {
            "_model_module": "@jupyter-widgets/base",
            "_model_module_version": "1.2.0",
            "_model_name": "LayoutModel",
            "_view_count": null,
            "_view_module": "@jupyter-widgets/base",
            "_view_module_version": "1.2.0",
            "_view_name": "LayoutView",
            "align_content": null,
            "align_items": null,
            "align_self": null,
            "border": null,
            "bottom": null,
            "display": null,
            "flex": null,
            "flex_flow": null,
            "grid_area": null,
            "grid_auto_columns": null,
            "grid_auto_flow": null,
            "grid_auto_rows": null,
            "grid_column": null,
            "grid_gap": null,
            "grid_row": null,
            "grid_template_areas": null,
            "grid_template_columns": null,
            "grid_template_rows": null,
            "height": null,
            "justify_content": null,
            "justify_items": null,
            "left": null,
            "margin": null,
            "max_height": null,
            "max_width": null,
            "min_height": null,
            "min_width": null,
            "object_fit": null,
            "object_position": null,
            "order": null,
            "overflow": null,
            "overflow_x": null,
            "overflow_y": null,
            "padding": null,
            "right": null,
            "top": null,
            "visibility": null,
            "width": null
          }
        },
        "22f66e73cf844582ad0daf3e44b2923a": {
          "model_module": "@jupyter-widgets/controls",
          "model_name": "DescriptionStyleModel",
          "model_module_version": "1.5.0",
          "state": {
            "_model_module": "@jupyter-widgets/controls",
            "_model_module_version": "1.5.0",
            "_model_name": "DescriptionStyleModel",
            "_view_count": null,
            "_view_module": "@jupyter-widgets/base",
            "_view_module_version": "1.2.0",
            "_view_name": "StyleView",
            "description_width": ""
          }
        },
        "864f5bbeee9a4c4c919a4fef37f0529b": {
          "model_module": "@jupyter-widgets/controls",
          "model_name": "HBoxModel",
          "model_module_version": "1.5.0",
          "state": {
            "_dom_classes": [],
            "_model_module": "@jupyter-widgets/controls",
            "_model_module_version": "1.5.0",
            "_model_name": "HBoxModel",
            "_view_count": null,
            "_view_module": "@jupyter-widgets/controls",
            "_view_module_version": "1.5.0",
            "_view_name": "HBoxView",
            "box_style": "",
            "children": [
              "IPY_MODEL_f6a88b81c91d4e2aae900721810c27c0",
              "IPY_MODEL_0c15a8145c2d4f0e83469f9371fee5a4",
              "IPY_MODEL_1d658382caaf4ef1a5fe8d8ecea2d8d9"
            ],
            "layout": "IPY_MODEL_5e3d7f5a6dbf41c688be12e74e00819c"
          }
        },
        "f6a88b81c91d4e2aae900721810c27c0": {
          "model_module": "@jupyter-widgets/controls",
          "model_name": "HTMLModel",
          "model_module_version": "1.5.0",
          "state": {
            "_dom_classes": [],
            "_model_module": "@jupyter-widgets/controls",
            "_model_module_version": "1.5.0",
            "_model_name": "HTMLModel",
            "_view_count": null,
            "_view_module": "@jupyter-widgets/controls",
            "_view_module_version": "1.5.0",
            "_view_name": "HTMLView",
            "description": "",
            "description_tooltip": null,
            "layout": "IPY_MODEL_a11b54b3abd245879c02ce9e94b3fdca",
            "placeholder": "​",
            "style": "IPY_MODEL_d320f8e3beef4c7e9cd48cff86ff0290",
            "value": "100%"
          }
        },
        "0c15a8145c2d4f0e83469f9371fee5a4": {
          "model_module": "@jupyter-widgets/controls",
          "model_name": "FloatProgressModel",
          "model_module_version": "1.5.0",
          "state": {
            "_dom_classes": [],
            "_model_module": "@jupyter-widgets/controls",
            "_model_module_version": "1.5.0",
            "_model_name": "FloatProgressModel",
            "_view_count": null,
            "_view_module": "@jupyter-widgets/controls",
            "_view_module_version": "1.5.0",
            "_view_name": "ProgressView",
            "bar_style": "success",
            "description": "",
            "description_tooltip": null,
            "layout": "IPY_MODEL_97ce4bc92afd42d6ae72980cf54c0f0c",
            "max": 250,
            "min": 0,
            "orientation": "horizontal",
            "style": "IPY_MODEL_8f71472eabd44f4ba681e8f7643001e8",
            "value": 250
          }
        },
        "1d658382caaf4ef1a5fe8d8ecea2d8d9": {
          "model_module": "@jupyter-widgets/controls",
          "model_name": "HTMLModel",
          "model_module_version": "1.5.0",
          "state": {
            "_dom_classes": [],
            "_model_module": "@jupyter-widgets/controls",
            "_model_module_version": "1.5.0",
            "_model_name": "HTMLModel",
            "_view_count": null,
            "_view_module": "@jupyter-widgets/controls",
            "_view_module_version": "1.5.0",
            "_view_name": "HTMLView",
            "description": "",
            "description_tooltip": null,
            "layout": "IPY_MODEL_4a12af58a776454e8923a4c7849b80f7",
            "placeholder": "​",
            "style": "IPY_MODEL_3937982111f946b4b24c87a4c6f64561",
            "value": " 250/250 [00:02&lt;00:00, 109.26it/s]"
          }
        },
        "5e3d7f5a6dbf41c688be12e74e00819c": {
          "model_module": "@jupyter-widgets/base",
          "model_name": "LayoutModel",
          "model_module_version": "1.2.0",
          "state": {
            "_model_module": "@jupyter-widgets/base",
            "_model_module_version": "1.2.0",
            "_model_name": "LayoutModel",
            "_view_count": null,
            "_view_module": "@jupyter-widgets/base",
            "_view_module_version": "1.2.0",
            "_view_name": "LayoutView",
            "align_content": null,
            "align_items": null,
            "align_self": null,
            "border": null,
            "bottom": null,
            "display": null,
            "flex": null,
            "flex_flow": null,
            "grid_area": null,
            "grid_auto_columns": null,
            "grid_auto_flow": null,
            "grid_auto_rows": null,
            "grid_column": null,
            "grid_gap": null,
            "grid_row": null,
            "grid_template_areas": null,
            "grid_template_columns": null,
            "grid_template_rows": null,
            "height": null,
            "justify_content": null,
            "justify_items": null,
            "left": null,
            "margin": null,
            "max_height": null,
            "max_width": null,
            "min_height": null,
            "min_width": null,
            "object_fit": null,
            "object_position": null,
            "order": null,
            "overflow": null,
            "overflow_x": null,
            "overflow_y": null,
            "padding": null,
            "right": null,
            "top": null,
            "visibility": null,
            "width": null
          }
        },
        "a11b54b3abd245879c02ce9e94b3fdca": {
          "model_module": "@jupyter-widgets/base",
          "model_name": "LayoutModel",
          "model_module_version": "1.2.0",
          "state": {
            "_model_module": "@jupyter-widgets/base",
            "_model_module_version": "1.2.0",
            "_model_name": "LayoutModel",
            "_view_count": null,
            "_view_module": "@jupyter-widgets/base",
            "_view_module_version": "1.2.0",
            "_view_name": "LayoutView",
            "align_content": null,
            "align_items": null,
            "align_self": null,
            "border": null,
            "bottom": null,
            "display": null,
            "flex": null,
            "flex_flow": null,
            "grid_area": null,
            "grid_auto_columns": null,
            "grid_auto_flow": null,
            "grid_auto_rows": null,
            "grid_column": null,
            "grid_gap": null,
            "grid_row": null,
            "grid_template_areas": null,
            "grid_template_columns": null,
            "grid_template_rows": null,
            "height": null,
            "justify_content": null,
            "justify_items": null,
            "left": null,
            "margin": null,
            "max_height": null,
            "max_width": null,
            "min_height": null,
            "min_width": null,
            "object_fit": null,
            "object_position": null,
            "order": null,
            "overflow": null,
            "overflow_x": null,
            "overflow_y": null,
            "padding": null,
            "right": null,
            "top": null,
            "visibility": null,
            "width": null
          }
        },
        "d320f8e3beef4c7e9cd48cff86ff0290": {
          "model_module": "@jupyter-widgets/controls",
          "model_name": "DescriptionStyleModel",
          "model_module_version": "1.5.0",
          "state": {
            "_model_module": "@jupyter-widgets/controls",
            "_model_module_version": "1.5.0",
            "_model_name": "DescriptionStyleModel",
            "_view_count": null,
            "_view_module": "@jupyter-widgets/base",
            "_view_module_version": "1.2.0",
            "_view_name": "StyleView",
            "description_width": ""
          }
        },
        "97ce4bc92afd42d6ae72980cf54c0f0c": {
          "model_module": "@jupyter-widgets/base",
          "model_name": "LayoutModel",
          "model_module_version": "1.2.0",
          "state": {
            "_model_module": "@jupyter-widgets/base",
            "_model_module_version": "1.2.0",
            "_model_name": "LayoutModel",
            "_view_count": null,
            "_view_module": "@jupyter-widgets/base",
            "_view_module_version": "1.2.0",
            "_view_name": "LayoutView",
            "align_content": null,
            "align_items": null,
            "align_self": null,
            "border": null,
            "bottom": null,
            "display": null,
            "flex": null,
            "flex_flow": null,
            "grid_area": null,
            "grid_auto_columns": null,
            "grid_auto_flow": null,
            "grid_auto_rows": null,
            "grid_column": null,
            "grid_gap": null,
            "grid_row": null,
            "grid_template_areas": null,
            "grid_template_columns": null,
            "grid_template_rows": null,
            "height": null,
            "justify_content": null,
            "justify_items": null,
            "left": null,
            "margin": null,
            "max_height": null,
            "max_width": null,
            "min_height": null,
            "min_width": null,
            "object_fit": null,
            "object_position": null,
            "order": null,
            "overflow": null,
            "overflow_x": null,
            "overflow_y": null,
            "padding": null,
            "right": null,
            "top": null,
            "visibility": null,
            "width": null
          }
        },
        "8f71472eabd44f4ba681e8f7643001e8": {
          "model_module": "@jupyter-widgets/controls",
          "model_name": "ProgressStyleModel",
          "model_module_version": "1.5.0",
          "state": {
            "_model_module": "@jupyter-widgets/controls",
            "_model_module_version": "1.5.0",
            "_model_name": "ProgressStyleModel",
            "_view_count": null,
            "_view_module": "@jupyter-widgets/base",
            "_view_module_version": "1.2.0",
            "_view_name": "StyleView",
            "bar_color": null,
            "description_width": ""
          }
        },
        "4a12af58a776454e8923a4c7849b80f7": {
          "model_module": "@jupyter-widgets/base",
          "model_name": "LayoutModel",
          "model_module_version": "1.2.0",
          "state": {
            "_model_module": "@jupyter-widgets/base",
            "_model_module_version": "1.2.0",
            "_model_name": "LayoutModel",
            "_view_count": null,
            "_view_module": "@jupyter-widgets/base",
            "_view_module_version": "1.2.0",
            "_view_name": "LayoutView",
            "align_content": null,
            "align_items": null,
            "align_self": null,
            "border": null,
            "bottom": null,
            "display": null,
            "flex": null,
            "flex_flow": null,
            "grid_area": null,
            "grid_auto_columns": null,
            "grid_auto_flow": null,
            "grid_auto_rows": null,
            "grid_column": null,
            "grid_gap": null,
            "grid_row": null,
            "grid_template_areas": null,
            "grid_template_columns": null,
            "grid_template_rows": null,
            "height": null,
            "justify_content": null,
            "justify_items": null,
            "left": null,
            "margin": null,
            "max_height": null,
            "max_width": null,
            "min_height": null,
            "min_width": null,
            "object_fit": null,
            "object_position": null,
            "order": null,
            "overflow": null,
            "overflow_x": null,
            "overflow_y": null,
            "padding": null,
            "right": null,
            "top": null,
            "visibility": null,
            "width": null
          }
        },
        "3937982111f946b4b24c87a4c6f64561": {
          "model_module": "@jupyter-widgets/controls",
          "model_name": "DescriptionStyleModel",
          "model_module_version": "1.5.0",
          "state": {
            "_model_module": "@jupyter-widgets/controls",
            "_model_module_version": "1.5.0",
            "_model_name": "DescriptionStyleModel",
            "_view_count": null,
            "_view_module": "@jupyter-widgets/base",
            "_view_module_version": "1.2.0",
            "_view_name": "StyleView",
            "description_width": ""
          }
        },
        "a1ea676980c94bc09ccd4ca3c9f57cea": {
          "model_module": "@jupyter-widgets/controls",
          "model_name": "HBoxModel",
          "model_module_version": "1.5.0",
          "state": {
            "_dom_classes": [],
            "_model_module": "@jupyter-widgets/controls",
            "_model_module_version": "1.5.0",
            "_model_name": "HBoxModel",
            "_view_count": null,
            "_view_module": "@jupyter-widgets/controls",
            "_view_module_version": "1.5.0",
            "_view_name": "HBoxView",
            "box_style": "",
            "children": [
              "IPY_MODEL_0fcf3d9a63364308aa6151b245581c58",
              "IPY_MODEL_930d2df823524898a62a3e721cd900f9",
              "IPY_MODEL_06989c53cad64ecb91b47401400d61cd"
            ],
            "layout": "IPY_MODEL_692e1bad885d44a58c3351514f1059d1"
          }
        },
        "0fcf3d9a63364308aa6151b245581c58": {
          "model_module": "@jupyter-widgets/controls",
          "model_name": "HTMLModel",
          "model_module_version": "1.5.0",
          "state": {
            "_dom_classes": [],
            "_model_module": "@jupyter-widgets/controls",
            "_model_module_version": "1.5.0",
            "_model_name": "HTMLModel",
            "_view_count": null,
            "_view_module": "@jupyter-widgets/controls",
            "_view_module_version": "1.5.0",
            "_view_name": "HTMLView",
            "description": "",
            "description_tooltip": null,
            "layout": "IPY_MODEL_f2a4924197f14440ab035df414b0b938",
            "placeholder": "​",
            "style": "IPY_MODEL_50a1a75aaee245c9b14c6e0ba147ba57",
            "value": "100%"
          }
        },
        "930d2df823524898a62a3e721cd900f9": {
          "model_module": "@jupyter-widgets/controls",
          "model_name": "FloatProgressModel",
          "model_module_version": "1.5.0",
          "state": {
            "_dom_classes": [],
            "_model_module": "@jupyter-widgets/controls",
            "_model_module_version": "1.5.0",
            "_model_name": "FloatProgressModel",
            "_view_count": null,
            "_view_module": "@jupyter-widgets/controls",
            "_view_module_version": "1.5.0",
            "_view_name": "ProgressView",
            "bar_style": "success",
            "description": "",
            "description_tooltip": null,
            "layout": "IPY_MODEL_4aaf59cdab924d06bebd8dc34a9020bf",
            "max": 250,
            "min": 0,
            "orientation": "horizontal",
            "style": "IPY_MODEL_ac77220b2e574b389aeca3356c59ba1f",
            "value": 250
          }
        },
        "06989c53cad64ecb91b47401400d61cd": {
          "model_module": "@jupyter-widgets/controls",
          "model_name": "HTMLModel",
          "model_module_version": "1.5.0",
          "state": {
            "_dom_classes": [],
            "_model_module": "@jupyter-widgets/controls",
            "_model_module_version": "1.5.0",
            "_model_name": "HTMLModel",
            "_view_count": null,
            "_view_module": "@jupyter-widgets/controls",
            "_view_module_version": "1.5.0",
            "_view_name": "HTMLView",
            "description": "",
            "description_tooltip": null,
            "layout": "IPY_MODEL_eee3eacf3d12403b82dc4cd49f17f9b0",
            "placeholder": "​",
            "style": "IPY_MODEL_3568aa52cc424ab38f51536b812778fe",
            "value": " 250/250 [00:02&lt;00:00, 99.94it/s]"
          }
        },
        "692e1bad885d44a58c3351514f1059d1": {
          "model_module": "@jupyter-widgets/base",
          "model_name": "LayoutModel",
          "model_module_version": "1.2.0",
          "state": {
            "_model_module": "@jupyter-widgets/base",
            "_model_module_version": "1.2.0",
            "_model_name": "LayoutModel",
            "_view_count": null,
            "_view_module": "@jupyter-widgets/base",
            "_view_module_version": "1.2.0",
            "_view_name": "LayoutView",
            "align_content": null,
            "align_items": null,
            "align_self": null,
            "border": null,
            "bottom": null,
            "display": null,
            "flex": null,
            "flex_flow": null,
            "grid_area": null,
            "grid_auto_columns": null,
            "grid_auto_flow": null,
            "grid_auto_rows": null,
            "grid_column": null,
            "grid_gap": null,
            "grid_row": null,
            "grid_template_areas": null,
            "grid_template_columns": null,
            "grid_template_rows": null,
            "height": null,
            "justify_content": null,
            "justify_items": null,
            "left": null,
            "margin": null,
            "max_height": null,
            "max_width": null,
            "min_height": null,
            "min_width": null,
            "object_fit": null,
            "object_position": null,
            "order": null,
            "overflow": null,
            "overflow_x": null,
            "overflow_y": null,
            "padding": null,
            "right": null,
            "top": null,
            "visibility": null,
            "width": null
          }
        },
        "f2a4924197f14440ab035df414b0b938": {
          "model_module": "@jupyter-widgets/base",
          "model_name": "LayoutModel",
          "model_module_version": "1.2.0",
          "state": {
            "_model_module": "@jupyter-widgets/base",
            "_model_module_version": "1.2.0",
            "_model_name": "LayoutModel",
            "_view_count": null,
            "_view_module": "@jupyter-widgets/base",
            "_view_module_version": "1.2.0",
            "_view_name": "LayoutView",
            "align_content": null,
            "align_items": null,
            "align_self": null,
            "border": null,
            "bottom": null,
            "display": null,
            "flex": null,
            "flex_flow": null,
            "grid_area": null,
            "grid_auto_columns": null,
            "grid_auto_flow": null,
            "grid_auto_rows": null,
            "grid_column": null,
            "grid_gap": null,
            "grid_row": null,
            "grid_template_areas": null,
            "grid_template_columns": null,
            "grid_template_rows": null,
            "height": null,
            "justify_content": null,
            "justify_items": null,
            "left": null,
            "margin": null,
            "max_height": null,
            "max_width": null,
            "min_height": null,
            "min_width": null,
            "object_fit": null,
            "object_position": null,
            "order": null,
            "overflow": null,
            "overflow_x": null,
            "overflow_y": null,
            "padding": null,
            "right": null,
            "top": null,
            "visibility": null,
            "width": null
          }
        },
        "50a1a75aaee245c9b14c6e0ba147ba57": {
          "model_module": "@jupyter-widgets/controls",
          "model_name": "DescriptionStyleModel",
          "model_module_version": "1.5.0",
          "state": {
            "_model_module": "@jupyter-widgets/controls",
            "_model_module_version": "1.5.0",
            "_model_name": "DescriptionStyleModel",
            "_view_count": null,
            "_view_module": "@jupyter-widgets/base",
            "_view_module_version": "1.2.0",
            "_view_name": "StyleView",
            "description_width": ""
          }
        },
        "4aaf59cdab924d06bebd8dc34a9020bf": {
          "model_module": "@jupyter-widgets/base",
          "model_name": "LayoutModel",
          "model_module_version": "1.2.0",
          "state": {
            "_model_module": "@jupyter-widgets/base",
            "_model_module_version": "1.2.0",
            "_model_name": "LayoutModel",
            "_view_count": null,
            "_view_module": "@jupyter-widgets/base",
            "_view_module_version": "1.2.0",
            "_view_name": "LayoutView",
            "align_content": null,
            "align_items": null,
            "align_self": null,
            "border": null,
            "bottom": null,
            "display": null,
            "flex": null,
            "flex_flow": null,
            "grid_area": null,
            "grid_auto_columns": null,
            "grid_auto_flow": null,
            "grid_auto_rows": null,
            "grid_column": null,
            "grid_gap": null,
            "grid_row": null,
            "grid_template_areas": null,
            "grid_template_columns": null,
            "grid_template_rows": null,
            "height": null,
            "justify_content": null,
            "justify_items": null,
            "left": null,
            "margin": null,
            "max_height": null,
            "max_width": null,
            "min_height": null,
            "min_width": null,
            "object_fit": null,
            "object_position": null,
            "order": null,
            "overflow": null,
            "overflow_x": null,
            "overflow_y": null,
            "padding": null,
            "right": null,
            "top": null,
            "visibility": null,
            "width": null
          }
        },
        "ac77220b2e574b389aeca3356c59ba1f": {
          "model_module": "@jupyter-widgets/controls",
          "model_name": "ProgressStyleModel",
          "model_module_version": "1.5.0",
          "state": {
            "_model_module": "@jupyter-widgets/controls",
            "_model_module_version": "1.5.0",
            "_model_name": "ProgressStyleModel",
            "_view_count": null,
            "_view_module": "@jupyter-widgets/base",
            "_view_module_version": "1.2.0",
            "_view_name": "StyleView",
            "bar_color": null,
            "description_width": ""
          }
        },
        "eee3eacf3d12403b82dc4cd49f17f9b0": {
          "model_module": "@jupyter-widgets/base",
          "model_name": "LayoutModel",
          "model_module_version": "1.2.0",
          "state": {
            "_model_module": "@jupyter-widgets/base",
            "_model_module_version": "1.2.0",
            "_model_name": "LayoutModel",
            "_view_count": null,
            "_view_module": "@jupyter-widgets/base",
            "_view_module_version": "1.2.0",
            "_view_name": "LayoutView",
            "align_content": null,
            "align_items": null,
            "align_self": null,
            "border": null,
            "bottom": null,
            "display": null,
            "flex": null,
            "flex_flow": null,
            "grid_area": null,
            "grid_auto_columns": null,
            "grid_auto_flow": null,
            "grid_auto_rows": null,
            "grid_column": null,
            "grid_gap": null,
            "grid_row": null,
            "grid_template_areas": null,
            "grid_template_columns": null,
            "grid_template_rows": null,
            "height": null,
            "justify_content": null,
            "justify_items": null,
            "left": null,
            "margin": null,
            "max_height": null,
            "max_width": null,
            "min_height": null,
            "min_width": null,
            "object_fit": null,
            "object_position": null,
            "order": null,
            "overflow": null,
            "overflow_x": null,
            "overflow_y": null,
            "padding": null,
            "right": null,
            "top": null,
            "visibility": null,
            "width": null
          }
        },
        "3568aa52cc424ab38f51536b812778fe": {
          "model_module": "@jupyter-widgets/controls",
          "model_name": "DescriptionStyleModel",
          "model_module_version": "1.5.0",
          "state": {
            "_model_module": "@jupyter-widgets/controls",
            "_model_module_version": "1.5.0",
            "_model_name": "DescriptionStyleModel",
            "_view_count": null,
            "_view_module": "@jupyter-widgets/base",
            "_view_module_version": "1.2.0",
            "_view_name": "StyleView",
            "description_width": ""
          }
        }
      }
    }
  },
  "cells": [
    {
      "cell_type": "markdown",
      "metadata": {
        "id": "view-in-github",
        "colab_type": "text"
      },
      "source": [
        "<a href=\"https://colab.research.google.com/github/moliver813/Data_Science_Miniprojects/blob/main/Diffuser_MNIST_Digits.ipynb\" target=\"_parent\"><img src=\"https://colab.research.google.com/assets/colab-badge.svg\" alt=\"Open In Colab\"/></a>"
      ]
    },
    {
      "cell_type": "markdown",
      "source": [
        "# Diffusion Model for MNIST digits\n",
        "\n",
        "Trying the diffusion model from the DataCamp webinar (https://www.youtube.com/watch?v=mMNYK5o4dnI&ab_channel=DataCamp), but on the MNIST digits data set instead."
      ],
      "metadata": {
        "id": "ndlZhiMDG4Zg"
      }
    },
    {
      "cell_type": "code",
      "execution_count": null,
      "metadata": {
        "colab": {
          "base_uri": "https://localhost:8080/"
        },
        "id": "ZRL4hrMuGzw_",
        "outputId": "cc14cb9c-90a2-4367-f05f-383b74d5ef53"
      },
      "outputs": [
        {
          "output_type": "stream",
          "name": "stdout",
          "text": [
            "Collecting torchmultimodal-nightly\n",
            "  Downloading torchmultimodal_nightly-2023.12.7-py39-none-any.whl (256 kB)\n",
            "\u001b[2K     \u001b[90m━━━━━━━━━━━━━━━━━━━━━━━━━━━━━━━━━━━━━━━━\u001b[0m \u001b[32m256.3/256.3 kB\u001b[0m \u001b[31m5.5 MB/s\u001b[0m eta \u001b[36m0:00:00\u001b[0m\n",
            "\u001b[?25hCollecting DALL-E==0.1 (from torchmultimodal-nightly)\n",
            "  Downloading DALL_E-0.1-py3-none-any.whl (6.0 kB)\n",
            "Collecting iopath (from torchmultimodal-nightly)\n",
            "  Downloading iopath-0.1.10.tar.gz (42 kB)\n",
            "\u001b[2K     \u001b[90m━━━━━━━━━━━━━━━━━━━━━━━━━━━━━━━━━━━━━━━━\u001b[0m \u001b[32m42.2/42.2 kB\u001b[0m \u001b[31m5.7 MB/s\u001b[0m eta \u001b[36m0:00:00\u001b[0m\n",
            "\u001b[?25h  Preparing metadata (setup.py) ... \u001b[?25l\u001b[?25hdone\n",
            "Requirement already satisfied: attrs==23.1.0 in /usr/local/lib/python3.10/dist-packages (from torchmultimodal-nightly) (23.1.0)\n",
            "Collecting ftfy (from torchmultimodal-nightly)\n",
            "  Downloading ftfy-6.1.3-py3-none-any.whl (53 kB)\n",
            "\u001b[2K     \u001b[90m━━━━━━━━━━━━━━━━━━━━━━━━━━━━━━━━━━━━━━━━\u001b[0m \u001b[32m53.4/53.4 kB\u001b[0m \u001b[31m4.3 MB/s\u001b[0m eta \u001b[36m0:00:00\u001b[0m\n",
            "\u001b[?25hRequirement already satisfied: regex in /usr/local/lib/python3.10/dist-packages (from torchmultimodal-nightly) (2023.6.3)\n",
            "Requirement already satisfied: Pillow in /usr/local/lib/python3.10/dist-packages (from DALL-E==0.1->torchmultimodal-nightly) (9.4.0)\n",
            "Collecting blobfile (from DALL-E==0.1->torchmultimodal-nightly)\n",
            "  Downloading blobfile-2.1.1-py3-none-any.whl (73 kB)\n",
            "\u001b[2K     \u001b[90m━━━━━━━━━━━━━━━━━━━━━━━━━━━━━━━━━━━━━━━━\u001b[0m \u001b[32m73.7/73.7 kB\u001b[0m \u001b[31m6.4 MB/s\u001b[0m eta \u001b[36m0:00:00\u001b[0m\n",
            "\u001b[?25hCollecting mypy (from DALL-E==0.1->torchmultimodal-nightly)\n",
            "  Downloading mypy-1.7.1-cp310-cp310-manylinux_2_17_x86_64.manylinux2014_x86_64.whl (12.5 MB)\n",
            "\u001b[2K     \u001b[90m━━━━━━━━━━━━━━━━━━━━━━━━━━━━━━━━━━━━━━━━\u001b[0m \u001b[32m12.5/12.5 MB\u001b[0m \u001b[31m24.1 MB/s\u001b[0m eta \u001b[36m0:00:00\u001b[0m\n",
            "\u001b[?25hRequirement already satisfied: numpy in /usr/local/lib/python3.10/dist-packages (from DALL-E==0.1->torchmultimodal-nightly) (1.23.5)\n",
            "Requirement already satisfied: pytest in /usr/local/lib/python3.10/dist-packages (from DALL-E==0.1->torchmultimodal-nightly) (7.4.3)\n",
            "Requirement already satisfied: requests in /usr/local/lib/python3.10/dist-packages (from DALL-E==0.1->torchmultimodal-nightly) (2.31.0)\n",
            "Requirement already satisfied: torch in /usr/local/lib/python3.10/dist-packages (from DALL-E==0.1->torchmultimodal-nightly) (2.1.0+cu118)\n",
            "Requirement already satisfied: torchvision in /usr/local/lib/python3.10/dist-packages (from DALL-E==0.1->torchmultimodal-nightly) (0.16.0+cu118)\n",
            "Requirement already satisfied: wcwidth<0.3.0,>=0.2.12 in /usr/local/lib/python3.10/dist-packages (from ftfy->torchmultimodal-nightly) (0.2.12)\n",
            "Requirement already satisfied: tqdm in /usr/local/lib/python3.10/dist-packages (from iopath->torchmultimodal-nightly) (4.66.1)\n",
            "Requirement already satisfied: typing_extensions in /usr/local/lib/python3.10/dist-packages (from iopath->torchmultimodal-nightly) (4.5.0)\n",
            "Collecting portalocker (from iopath->torchmultimodal-nightly)\n",
            "  Downloading portalocker-2.8.2-py3-none-any.whl (17 kB)\n",
            "Collecting pycryptodomex~=3.8 (from blobfile->DALL-E==0.1->torchmultimodal-nightly)\n",
            "  Downloading pycryptodomex-3.19.0-cp35-abi3-manylinux_2_17_x86_64.manylinux2014_x86_64.whl (2.1 MB)\n",
            "\u001b[2K     \u001b[90m━━━━━━━━━━━━━━━━━━━━━━━━━━━━━━━━━━━━━━━━\u001b[0m \u001b[32m2.1/2.1 MB\u001b[0m \u001b[31m85.9 MB/s\u001b[0m eta \u001b[36m0:00:00\u001b[0m\n",
            "\u001b[?25hRequirement already satisfied: urllib3<3,>=1.25.3 in /usr/local/lib/python3.10/dist-packages (from blobfile->DALL-E==0.1->torchmultimodal-nightly) (2.0.7)\n",
            "Requirement already satisfied: lxml~=4.9 in /usr/local/lib/python3.10/dist-packages (from blobfile->DALL-E==0.1->torchmultimodal-nightly) (4.9.3)\n",
            "Requirement already satisfied: filelock~=3.0 in /usr/local/lib/python3.10/dist-packages (from blobfile->DALL-E==0.1->torchmultimodal-nightly) (3.13.1)\n",
            "Collecting mypy-extensions>=1.0.0 (from mypy->DALL-E==0.1->torchmultimodal-nightly)\n",
            "  Downloading mypy_extensions-1.0.0-py3-none-any.whl (4.7 kB)\n",
            "Requirement already satisfied: tomli>=1.1.0 in /usr/local/lib/python3.10/dist-packages (from mypy->DALL-E==0.1->torchmultimodal-nightly) (2.0.1)\n",
            "Requirement already satisfied: iniconfig in /usr/local/lib/python3.10/dist-packages (from pytest->DALL-E==0.1->torchmultimodal-nightly) (2.0.0)\n",
            "Requirement already satisfied: packaging in /usr/local/lib/python3.10/dist-packages (from pytest->DALL-E==0.1->torchmultimodal-nightly) (23.2)\n",
            "Requirement already satisfied: pluggy<2.0,>=0.12 in /usr/local/lib/python3.10/dist-packages (from pytest->DALL-E==0.1->torchmultimodal-nightly) (1.3.0)\n",
            "Requirement already satisfied: exceptiongroup>=1.0.0rc8 in /usr/local/lib/python3.10/dist-packages (from pytest->DALL-E==0.1->torchmultimodal-nightly) (1.2.0)\n",
            "Requirement already satisfied: charset-normalizer<4,>=2 in /usr/local/lib/python3.10/dist-packages (from requests->DALL-E==0.1->torchmultimodal-nightly) (3.3.2)\n",
            "Requirement already satisfied: idna<4,>=2.5 in /usr/local/lib/python3.10/dist-packages (from requests->DALL-E==0.1->torchmultimodal-nightly) (3.6)\n",
            "Requirement already satisfied: certifi>=2017.4.17 in /usr/local/lib/python3.10/dist-packages (from requests->DALL-E==0.1->torchmultimodal-nightly) (2023.11.17)\n",
            "Requirement already satisfied: sympy in /usr/local/lib/python3.10/dist-packages (from torch->DALL-E==0.1->torchmultimodal-nightly) (1.12)\n",
            "Requirement already satisfied: networkx in /usr/local/lib/python3.10/dist-packages (from torch->DALL-E==0.1->torchmultimodal-nightly) (3.2.1)\n",
            "Requirement already satisfied: jinja2 in /usr/local/lib/python3.10/dist-packages (from torch->DALL-E==0.1->torchmultimodal-nightly) (3.1.2)\n",
            "Requirement already satisfied: fsspec in /usr/local/lib/python3.10/dist-packages (from torch->DALL-E==0.1->torchmultimodal-nightly) (2023.6.0)\n",
            "Requirement already satisfied: triton==2.1.0 in /usr/local/lib/python3.10/dist-packages (from torch->DALL-E==0.1->torchmultimodal-nightly) (2.1.0)\n",
            "Requirement already satisfied: MarkupSafe>=2.0 in /usr/local/lib/python3.10/dist-packages (from jinja2->torch->DALL-E==0.1->torchmultimodal-nightly) (2.1.3)\n",
            "Requirement already satisfied: mpmath>=0.19 in /usr/local/lib/python3.10/dist-packages (from sympy->torch->DALL-E==0.1->torchmultimodal-nightly) (1.3.0)\n",
            "Building wheels for collected packages: iopath\n",
            "  Building wheel for iopath (setup.py) ... \u001b[?25l\u001b[?25hdone\n",
            "  Created wheel for iopath: filename=iopath-0.1.10-py3-none-any.whl size=31532 sha256=12ce86ffec9fb5c6dcb474482f34f908d79affba5d60a8a0fae7d8ef02518534\n",
            "  Stored in directory: /root/.cache/pip/wheels/9a/a3/b6/ac0fcd1b4ed5cfeb3db92e6a0e476cfd48ed0df92b91080c1d\n",
            "Successfully built iopath\n",
            "Installing collected packages: pycryptodomex, portalocker, mypy-extensions, ftfy, mypy, iopath, blobfile, DALL-E, torchmultimodal-nightly\n",
            "Successfully installed DALL-E-0.1 blobfile-2.1.1 ftfy-6.1.3 iopath-0.1.10 mypy-1.7.1 mypy-extensions-1.0.0 portalocker-2.8.2 pycryptodomex-3.19.0 torchmultimodal-nightly-2023.12.7\n"
          ]
        }
      ],
      "source": [
        "!pip install torchmultimodal-nightly\n",
        "\n"
      ]
    },
    {
      "cell_type": "code",
      "source": [
        "import torch\n",
        "import torchvision\n",
        "import torchvision.transforms.functional as F\n",
        "\n",
        "from torch import nn\n",
        "from tqdm import tqdm\n",
        "from torchmultimodal.diffusion_labs.modules.adapters.cfguidance import CFGuidance\n",
        "from torchmultimodal.diffusion_labs.modules.losses.diffusion_hybrid_loss import DiffusionHybridLoss\n",
        "from torchmultimodal.diffusion_labs.samplers.ddpm import DDPModule\n",
        "from torchmultimodal.diffusion_labs.predictors.noise_predictor import NoisePredictor\n",
        "from torchmultimodal.diffusion_labs.schedules.discrete_gaussian_schedule import linear_beta_schedule, DiscreteGaussianSchedule\n",
        "from torchmultimodal.diffusion_labs.transforms.diffusion_transform import RandomDiffusionSteps\n",
        "from torchmultimodal.diffusion_labs.utils.common import DiffusionOutput"
      ],
      "metadata": {
        "id": "DX5pC6dQHH6P"
      },
      "execution_count": null,
      "outputs": []
    },
    {
      "cell_type": "markdown",
      "source": [
        "# Schedule"
      ],
      "metadata": {
        "id": "9qwRUGzoHNZ2"
      }
    },
    {
      "cell_type": "code",
      "source": [
        "# Define Diffusion Schedule\n",
        "\n",
        "schedule = DiscreteGaussianSchedule(linear_beta_schedule(1000))\n"
      ],
      "metadata": {
        "id": "mDxOH6cFHLbC"
      },
      "execution_count": null,
      "outputs": []
    },
    {
      "cell_type": "markdown",
      "source": [
        "# Predictor"
      ],
      "metadata": {
        "id": "VNRd5xnOHQqq"
      }
    },
    {
      "cell_type": "code",
      "source": [
        "# Define Prediction Target\n",
        "\n",
        "predictor = NoisePredictor(schedule, lambda x : torch.clamp(x,-1,1))"
      ],
      "metadata": {
        "id": "g99dGEuEHT5v"
      },
      "execution_count": null,
      "outputs": []
    },
    {
      "cell_type": "markdown",
      "source": [
        "# UNet"
      ],
      "metadata": {
        "id": "GpELjtBDHSCk"
      }
    },
    {
      "cell_type": "code",
      "source": [
        "# Down scaling input blocks for unet\n",
        "class DownBlock(nn.Module):\n",
        "    def __init__(self, in_channels, out_channels, cond_channels):\n",
        "        super().__init__()\n",
        "        # Define convolutions\n",
        "        self.block = nn.Sequential(\n",
        "            nn.Conv2d(in_channels + cond_channels, out_channels, kernel_size=3,padding=1),\n",
        "            nn.ReLU(),\n",
        "            nn.Conv2d(out_channels,out_channels,kernel_size=3,padding=1),\n",
        "            nn.ReLU()\n",
        "        )\n",
        "\n",
        "\n",
        "        self.pooling = nn.AvgPool2d(kernel_size=2, stride=2)\n",
        "\n",
        "    def forward(self, x, c):\n",
        "        _, _, w, h = x.size()\n",
        "        c = c.expand(-1, -1, w, h)              # Shape conditional input to match image\n",
        "        x = self.block(torch.cat([x, c], 1))    # Convolutions over image + condition\n",
        "        x_small = self.pooling(x)               # Downsample output for next block\n",
        "        return x, x_small\n",
        "\n",
        "# Upscaling blocks on unet\n",
        "class UpBlock(nn.Module):\n",
        "    def __init__(self, inp, out):\n",
        "        super().__init__()\n",
        "        self.block = nn.Sequential(\n",
        "            # 2 * inp because we will be adding input from two sources\n",
        "            nn.Conv2d(2*inp, out, kernel_size=3,padding=1),\n",
        "            nn.ReLU(),\n",
        "            nn.Conv2d(out,out,kernel_size=3,padding=1),\n",
        "            nn.ReLU()\n",
        "        )\n",
        "\n",
        "        #Define convolutions\n",
        "        self.upsample = nn.Upsample(scale_factor=2)\n",
        "\n",
        "    def forward(self, x, x_small):\n",
        "        x_big = self.upsample(x_small)          # Upscale input back towards original size\n",
        "        x = torch.cat((x_big, x), dim=1)        # Join previous block with accross block\n",
        "        x = self.block(x)                       # Convolutions over image\n",
        "        return x\n",
        "\n",
        "class UNet(nn.Module):\n",
        "    def __init__(self, time_size=32, digit_size=28, steps=1000):\n",
        "        super().__init__()\n",
        "        cond_size = time_size + digit_size\n",
        "        # Define UNet\n",
        "        self.conv = nn.Conv2d(1,128,kernel_size=3,padding=1)\n",
        "        # arbitrary numbers\n",
        "        self.down = nn.ModuleList([DownBlock(128,256,cond_size),DownBlock(256,512,cond_size)])\n",
        "        # can use a different achitecture for the bottleneck, but let's use downblock\n",
        "        self.bottleneck = DownBlock(512,512,cond_size)\n",
        "        self.up   = nn.ModuleList([UpBlock(512,256),UpBlock(256,128)])\n",
        "\n",
        "        self.variance   = nn.Conv2d(128,1,kernel_size=3,padding=1)\n",
        "        self.prediction = nn.Conv2d(128,1,kernel_size=3,padding=1)\n",
        "        self.time_projection  = nn.Embedding(steps,time_size)\n",
        "\n",
        "    def forward(self, x, t, conditional_inputs):\n",
        "        b,c,h,w = x.shape\n",
        "        # every pixel in the time series gets each pixel added\n",
        "        timestep = self.time_projection(t).view(b,-1,1,1)\n",
        "        condition = conditional_inputs['context'].view(b,-1,1,1)\n",
        "        condition = torch.cat([timestep,condition],dim=1)\n",
        "\n",
        "        # Define forward\n",
        "        x = self.conv(x)\n",
        "        outs = []\n",
        "        for block in self.down:\n",
        "            out, x = block(x,condition)\n",
        "            outs.append(out)\n",
        "        x,_ = self.bottleneck(x,condition)\n",
        "        for block in self.up:\n",
        "            x = block(outs.pop(), x)\n",
        "            #temp = outs.pop()\n",
        "            #print(f\"Debug: shapes: out: {temp.shape}, x : {x.shape} \")\n",
        "\n",
        "        # variance is optional, but helps with the training\n",
        "        v = self.variance(x)\n",
        "        p = self.prediction(x)\n",
        "        # diffusion output expects prediction and variance\n",
        "        return DiffusionOutput(p,v)\n",
        "\n",
        "\n"
      ],
      "metadata": {
        "id": "tgKt-FJNHXld"
      },
      "execution_count": null,
      "outputs": []
    },
    {
      "cell_type": "markdown",
      "source": [],
      "metadata": {
        "id": "yK1gc_eVHk7U"
      }
    },
    {
      "cell_type": "code",
      "source": [
        "unet = UNet(time_size=28, digit_size=32)\n",
        "# Add support for classifier free guidance\n",
        "unet = CFGuidance(unet, {\"context\":32}, guidance = 2.0)"
      ],
      "metadata": {
        "id": "pc9conTeHpFh"
      },
      "execution_count": null,
      "outputs": []
    },
    {
      "cell_type": "code",
      "source": [
        "# Define evalution\n",
        "# can skip some steps, and the model will still learn well\n",
        "eval_steps = torch.linspace(0,999,250,dtype = torch.long) # do only every 4th step\n",
        "model = DDPModule(unet, schedule, predictor,eval_steps)"
      ],
      "metadata": {
        "id": "IFo4G6-wHpmk"
      },
      "execution_count": null,
      "outputs": []
    },
    {
      "cell_type": "code",
      "source": [
        "# Define conditional embeddings\n",
        "# Larger models use LLMs\n",
        "# simpler model, based on the fact that the data set has 10 classes\n",
        "encoder = nn.Embedding(10,32)"
      ],
      "metadata": {
        "id": "GDPb8IanHrQP"
      },
      "execution_count": null,
      "outputs": []
    },
    {
      "cell_type": "markdown",
      "source": [
        "# Data"
      ],
      "metadata": {
        "id": "db1YdNpVIUK3"
      }
    },
    {
      "cell_type": "code",
      "source": [
        "from torchvision.transforms import Compose, Resize, ToTensor, Lambda\n",
        "\n",
        "# Transform data and use RandomDiffusionSteps to sample random noise\n",
        "diffusion_transform = RandomDiffusionSteps(schedule, batched=False)\n",
        "transform = Compose([\n",
        "    Resize(28),\n",
        "    ToTensor(), # format from PIL to PyTorch\n",
        "    Lambda(lambda x: 2*x - 1), # don't want images in 0-1, because we add noise in -1,1. Choose -1,1\n",
        "    Lambda(lambda x: diffusion_transform({\"x\":x}))\n",
        "])"
      ],
      "metadata": {
        "id": "2xSa9cQ2KfJO"
      },
      "execution_count": null,
      "outputs": []
    },
    {
      "cell_type": "code",
      "source": [
        "\n",
        "from torch.utils.data import DataLoader\n",
        "\n",
        "# torchvision.datasets.MNIST(root: str, train: bool = True, transform: Optional[Callable] = None, target_transform: Optional[Callable] = None, download: bool = False)\n",
        "mnist_set = torchvision.datasets.MNIST(root=\"data_train\",train=True,download=True,transform=transform)\n",
        "\n",
        "\n",
        "# Data Loader\n",
        "batch_size = 32\n",
        "train_dataloader = DataLoader(dataset=mnist_set,batch_size=batch_size,shuffle=True)"
      ],
      "metadata": {
        "colab": {
          "base_uri": "https://localhost:8080/"
        },
        "id": "elj1hUezIVhK",
        "outputId": "d1f6063f-2e73-4bb1-ce0d-87b982ae277b"
      },
      "execution_count": null,
      "outputs": [
        {
          "output_type": "stream",
          "name": "stdout",
          "text": [
            "Downloading http://yann.lecun.com/exdb/mnist/train-images-idx3-ubyte.gz\n",
            "Downloading http://yann.lecun.com/exdb/mnist/train-images-idx3-ubyte.gz to data_train/MNIST/raw/train-images-idx3-ubyte.gz\n"
          ]
        },
        {
          "output_type": "stream",
          "name": "stderr",
          "text": [
            "100%|██████████| 9912422/9912422 [00:00<00:00, 277225005.13it/s]"
          ]
        },
        {
          "output_type": "stream",
          "name": "stdout",
          "text": [
            "Extracting data_train/MNIST/raw/train-images-idx3-ubyte.gz to data_train/MNIST/raw\n"
          ]
        },
        {
          "output_type": "stream",
          "name": "stderr",
          "text": [
            "\n"
          ]
        },
        {
          "output_type": "stream",
          "name": "stdout",
          "text": [
            "\n",
            "Downloading http://yann.lecun.com/exdb/mnist/train-labels-idx1-ubyte.gz\n",
            "Downloading http://yann.lecun.com/exdb/mnist/train-labels-idx1-ubyte.gz to data_train/MNIST/raw/train-labels-idx1-ubyte.gz\n"
          ]
        },
        {
          "output_type": "stream",
          "name": "stderr",
          "text": [
            "100%|██████████| 28881/28881 [00:00<00:00, 103446365.35it/s]\n"
          ]
        },
        {
          "output_type": "stream",
          "name": "stdout",
          "text": [
            "Extracting data_train/MNIST/raw/train-labels-idx1-ubyte.gz to data_train/MNIST/raw\n",
            "\n",
            "Downloading http://yann.lecun.com/exdb/mnist/t10k-images-idx3-ubyte.gz\n",
            "Downloading http://yann.lecun.com/exdb/mnist/t10k-images-idx3-ubyte.gz to data_train/MNIST/raw/t10k-images-idx3-ubyte.gz\n"
          ]
        },
        {
          "output_type": "stream",
          "name": "stderr",
          "text": [
            "100%|██████████| 1648877/1648877 [00:00<00:00, 67543278.74it/s]"
          ]
        },
        {
          "output_type": "stream",
          "name": "stdout",
          "text": [
            "Extracting data_train/MNIST/raw/t10k-images-idx3-ubyte.gz to data_train/MNIST/raw\n"
          ]
        },
        {
          "output_type": "stream",
          "name": "stderr",
          "text": [
            "\n"
          ]
        },
        {
          "output_type": "stream",
          "name": "stdout",
          "text": [
            "\n",
            "Downloading http://yann.lecun.com/exdb/mnist/t10k-labels-idx1-ubyte.gz\n",
            "Downloading http://yann.lecun.com/exdb/mnist/t10k-labels-idx1-ubyte.gz to data_train/MNIST/raw/t10k-labels-idx1-ubyte.gz\n"
          ]
        },
        {
          "output_type": "stream",
          "name": "stderr",
          "text": [
            "100%|██████████| 4542/4542 [00:00<00:00, 6628576.47it/s]\n"
          ]
        },
        {
          "output_type": "stream",
          "name": "stdout",
          "text": [
            "Extracting data_train/MNIST/raw/t10k-labels-idx1-ubyte.gz to data_train/MNIST/raw\n",
            "\n"
          ]
        }
      ]
    },
    {
      "cell_type": "markdown",
      "source": [
        "# Train"
      ],
      "metadata": {
        "id": "CnmdK21AKyr0"
      }
    },
    {
      "cell_type": "code",
      "source": [
        "epochs = 15\n",
        "\n",
        "device = \"cpu\"\n",
        "\n",
        "# modification to use GPU\n",
        "# Check the device information\n",
        "device = (\n",
        "    \"cuda\"\n",
        "    if torch.cuda.is_available()\n",
        "    else \"mps\"\n",
        "    if torch.backends.mps.is_available()\n",
        "    else \"cpu\"\n",
        ")\n",
        "print(f\"Using {device} device\")\n",
        "\n",
        "\n",
        "encoder.to(device)\n",
        "model.to(device)\n",
        "\n",
        "# Apply optimizer to diffusion model and encoder for joint training\n",
        "optimizer = torch.optim.AdamW(\n",
        "    [{\"params\": encoder.parameters()}, {\"params\": model.parameters()}], lr=0.0001\n",
        ")\n",
        "# Define loss\n",
        "h_loss = DiffusionHybridLoss(schedule)\n",
        "\n",
        "encoder.train()\n",
        "model.train()\n",
        "for e in range(epochs):\n",
        "    for sample in (pbar := tqdm(train_dataloader)):\n",
        "        x, c = sample\n",
        "        x0, xt, noise, t, c = x[\"x\"].to(device), x[\"xt\"].to(device), x[\"noise\"].to(device), x[\"t\"].to(device), c.to(device)\n",
        "        optimizer.zero_grad()\n",
        "        # Compute loss\n",
        "        embedding = encoder(c)\n",
        "        out = model(xt,t,{\"context\":embedding})\n",
        "        loss = h_loss(out.prediction,noise,out.mean,out.log_variance,x0,xt,t)\n",
        "\n",
        "        loss.backward()\n",
        "        optimizer.step()\n",
        "\n",
        "        pbar.set_description(f'{e+1}| Loss: {loss.item()}')"
      ],
      "metadata": {
        "colab": {
          "base_uri": "https://localhost:8080/"
        },
        "id": "QQInHjffKrO0",
        "outputId": "3dd80cd9-cd7b-44f6-8911-1f6b4b3281c4"
      },
      "execution_count": null,
      "outputs": [
        {
          "output_type": "stream",
          "name": "stdout",
          "text": [
            "Using cuda device\n"
          ]
        },
        {
          "output_type": "stream",
          "name": "stderr",
          "text": [
            "1| Loss: 0.04089619591832161: 100%|██████████| 1875/1875 [01:33<00:00, 20.11it/s]\n",
            "2| Loss: 0.0345332995057106: 100%|██████████| 1875/1875 [01:32<00:00, 20.25it/s]\n",
            "3| Loss: 0.03385421633720398: 100%|██████████| 1875/1875 [01:32<00:00, 20.35it/s]\n",
            "4| Loss: 0.021185023710131645: 100%|██████████| 1875/1875 [01:32<00:00, 20.32it/s]\n",
            "5| Loss: 0.018404467031359673: 100%|██████████| 1875/1875 [01:34<00:00, 19.94it/s]\n",
            "6| Loss: 0.02154298685491085: 100%|██████████| 1875/1875 [01:32<00:00, 20.35it/s]\n",
            "7| Loss: 0.027122924104332924: 100%|██████████| 1875/1875 [01:34<00:00, 19.87it/s]\n",
            "8| Loss: 0.026640724390745163: 100%|██████████| 1875/1875 [01:32<00:00, 20.19it/s]\n",
            "9| Loss: 0.031375400722026825: 100%|██████████| 1875/1875 [01:33<00:00, 19.97it/s]\n",
            "10| Loss: 0.025506284087896347: 100%|██████████| 1875/1875 [01:36<00:00, 19.49it/s]\n",
            "11| Loss: 0.014860858209431171: 100%|██████████| 1875/1875 [01:33<00:00, 19.98it/s]\n",
            "12| Loss: 0.01244883518666029: 100%|██████████| 1875/1875 [01:32<00:00, 20.31it/s]\n",
            "13| Loss: 0.01769631914794445: 100%|██████████| 1875/1875 [01:32<00:00, 20.32it/s]\n",
            "14| Loss: 0.019756365567445755: 100%|██████████| 1875/1875 [01:32<00:00, 20.24it/s]\n",
            "15| Loss: 0.024632753804326057: 100%|██████████| 1875/1875 [01:32<00:00, 20.34it/s]\n"
          ]
        }
      ]
    },
    {
      "cell_type": "code",
      "source": [],
      "metadata": {
        "id": "i2Z4Rbs3K1FY"
      },
      "execution_count": null,
      "outputs": []
    },
    {
      "cell_type": "markdown",
      "source": [
        "# Generate with the Model\n",
        "\n"
      ],
      "metadata": {
        "id": "kUH3uVi3K3nP"
      }
    },
    {
      "cell_type": "code",
      "source": [
        "def mnist_encoder(name, num=1):\n",
        "    mnist_dict = {\"0\": 0, \"1\": 1, \"2\": 2, \"3\": 3, \"4\": 4,\n",
        "                    \"5\": 5, \"6\": 6, \"7\": 7, \"8\": 8, \"9\": 9}\n",
        "    idx = torch.as_tensor([mnist_dict[name] for _ in range(num)]).to(device)\n",
        "\n",
        "    encoder.eval()\n",
        "    with torch.no_grad():\n",
        "        embed = encoder(idx)\n",
        "    return embed"
      ],
      "metadata": {
        "id": "5vkmzVQMK6a9"
      },
      "execution_count": null,
      "outputs": []
    },
    {
      "cell_type": "code",
      "source": [
        "# saving the models\n",
        "torch.save(model.state_dict(), \"diffusion_model.pt\")\n",
        "torch.save(encoder.state_dict(), \"encoder.pt\")"
      ],
      "metadata": {
        "id": "ht0BGIy5LH1S"
      },
      "execution_count": null,
      "outputs": []
    },
    {
      "cell_type": "markdown",
      "source": [
        "## Generating standard digits with the model"
      ],
      "metadata": {
        "id": "GGSsxHMBa89k"
      }
    },
    {
      "cell_type": "code",
      "source": [
        "model.eval()\n",
        "\n",
        "num_samples = 9\n",
        "\n",
        "c = mnist_encoder(\"0\", num_samples)\n",
        "noise = torch.randn(size=(num_samples,1,32,32)).to(device)\n",
        "print(noise.shape)\n",
        "print(type(c))\n",
        "print(c.shape)\n",
        "with torch.no_grad():\n",
        "    imgs = model(noise, conditional_inputs={\"context\": c})\n",
        "\n",
        "img_grid = torchvision.utils.make_grid(imgs, 3)\n",
        "img = F.to_pil_image((img_grid + 1) / 2)\n",
        "img.resize((288, 288))"
      ],
      "metadata": {
        "colab": {
          "base_uri": "https://localhost:8080/",
          "height": 389,
          "referenced_widgets": [
            "6e0fe7e5029b4f1487a731f960ccf194",
            "0aac992a0893477ca818083e4636c042",
            "aad9bbc48cb04641ba0723a27bf8fcfa",
            "2848f278c95545c781957369ebd4748f",
            "a356777afab7403081fbd7c317808d34",
            "6079786853fe428091bb7ccaff690b85",
            "a2945d1f909440908e15957b89dae682",
            "41d3532c4ad84f8588217ace23837965",
            "b59e2f91efa148bc8426916f8be221fc",
            "ae74ffd60a124288a5ec2bfa50b1fe51",
            "44165c876ee4469fb8f4790e561caeca"
          ]
        },
        "id": "qnP8r9z4LIeW",
        "outputId": "636ae175-f643-4d44-d073-2d6b1caafa69"
      },
      "execution_count": null,
      "outputs": [
        {
          "output_type": "stream",
          "name": "stdout",
          "text": [
            "torch.Size([9, 1, 32, 32])\n",
            "<class 'torch.Tensor'>\n",
            "torch.Size([9, 32])\n"
          ]
        },
        {
          "output_type": "display_data",
          "data": {
            "text/plain": [
              "  0%|          | 0/250 [00:00<?, ?it/s]"
            ],
            "application/vnd.jupyter.widget-view+json": {
              "version_major": 2,
              "version_minor": 0,
              "model_id": "6e0fe7e5029b4f1487a731f960ccf194"
            }
          },
          "metadata": {}
        },
        {
          "output_type": "execute_result",
          "data": {
            "text/plain": [
              "<PIL.Image.Image image mode=RGB size=288x288>"
            ],
            "image/png": "[encoded data removed]"
          },
          "metadata": {},
          "execution_count": 16
        }
      ]
    },
    {
      "cell_type": "code",
      "source": [
        "model.eval()\n",
        "\n",
        "num_samples = 9\n",
        "\n",
        "c = mnist_encoder(\"4\", num_samples)\n",
        "noise = torch.randn(size=(num_samples,1,32,32)).to(device)\n",
        "print(noise.shape)\n",
        "print(type(c))\n",
        "print(c.shape)\n",
        "with torch.no_grad():\n",
        "    imgs = model(noise, conditional_inputs={\"context\": c})\n",
        "\n",
        "img_grid = torchvision.utils.make_grid(imgs, 3)\n",
        "img = F.to_pil_image((img_grid + 1) / 2)\n",
        "img.resize((288, 288))"
      ],
      "metadata": {
        "colab": {
          "base_uri": "https://localhost:8080/",
          "height": 389,
          "referenced_widgets": [
            "c365570dd2b549e8810c07bb97e6f1b5",
            "711776f6fb224fb3b5d73a5ab4d53835",
            "ff8164a9e4af498f9b6ec82d36ca2050",
            "88f98c33736d4c8ab3acbcee6bcd4dfa",
            "91f9352ba82f41a1bff11cc8acee5d7e",
            "b2fa17d9fce8439c932aa5b1ea930223",
            "5b4eae4148d94120bc4b164ffa0f29d3",
            "0d63574c396e4088911560b01e0be723",
            "20230ad27f184f96bed350e1e5f1b154",
            "798e3cc20e4d40f0951e6688ab00d662",
            "96ac3bc2957b4e3fb1c0f3dee50e3020"
          ]
        },
        "id": "lMQ98xI1QDhz",
        "outputId": "b9a3edbd-9b98-407a-cf36-234c548c94c0"
      },
      "execution_count": null,
      "outputs": [
        {
          "output_type": "stream",
          "name": "stdout",
          "text": [
            "torch.Size([9, 1, 32, 32])\n",
            "<class 'torch.Tensor'>\n",
            "torch.Size([9, 32])\n"
          ]
        },
        {
          "output_type": "display_data",
          "data": {
            "text/plain": [
              "  0%|          | 0/250 [00:00<?, ?it/s]"
            ],
            "application/vnd.jupyter.widget-view+json": {
              "version_major": 2,
              "version_minor": 0,
              "model_id": "c365570dd2b549e8810c07bb97e6f1b5"
            }
          },
          "metadata": {}
        },
        {
          "output_type": "execute_result",
          "data": {
            "text/plain": [
              "<PIL.Image.Image image mode=RGB size=288x288>"
            ],
            "image/png": "[encoded data removed]"
          },
          "metadata": {},
          "execution_count": 17
        }
      ]
    },
    {
      "cell_type": "code",
      "source": [
        "model.eval()\n",
        "\n",
        "num_samples = 9\n",
        "\n",
        "c = mnist_encoder(\"9\", num_samples)\n",
        "noise = torch.randn(size=(num_samples,1,32,32)).to(device)\n",
        "print(noise.shape)\n",
        "print(type(c))\n",
        "print(c.shape)\n",
        "with torch.no_grad():\n",
        "    imgs = model(noise, conditional_inputs={\"context\": c})\n",
        "\n",
        "img_grid = torchvision.utils.make_grid(imgs, 3)\n",
        "img = F.to_pil_image((img_grid + 1) / 2)\n",
        "img.resize((288, 288))"
      ],
      "metadata": {
        "colab": {
          "base_uri": "https://localhost:8080/",
          "height": 389,
          "referenced_widgets": [
            "22129fd2f82f4bf3a6df35ba37c0e00d",
            "5b3fdd6e5f1a4ffa8951769bca5df718",
            "94777d42a9304bf6acb38967b13dcb36",
            "1f34fc01b8254e3b8edc05b5da8f81d1",
            "5d02e532085a408d85d452ee05bccb1b",
            "0b4e0e2890f34b6984d4fb950301a990",
            "3c6ac5f0b25a476fb1835faf8310ef7a",
            "3349af7fcd60434580e84be61208f232",
            "c6468138dbfb4e88b7024c85f67e932c",
            "06055a2ef6d24089ae5ea94b116fdd3f",
            "22f66e73cf844582ad0daf3e44b2923a"
          ]
        },
        "id": "y5hTCZQ_QVag",
        "outputId": "98691965-847a-494e-ffcd-a96576ed20f6"
      },
      "execution_count": null,
      "outputs": [
        {
          "output_type": "stream",
          "name": "stdout",
          "text": [
            "torch.Size([9, 1, 32, 32])\n",
            "<class 'torch.Tensor'>\n",
            "torch.Size([9, 32])\n"
          ]
        },
        {
          "output_type": "display_data",
          "data": {
            "text/plain": [
              "  0%|          | 0/250 [00:00<?, ?it/s]"
            ],
            "application/vnd.jupyter.widget-view+json": {
              "version_major": 2,
              "version_minor": 0,
              "model_id": "22129fd2f82f4bf3a6df35ba37c0e00d"
            }
          },
          "metadata": {}
        },
        {
          "output_type": "execute_result",
          "data": {
            "text/plain": [
              "<PIL.Image.Image image mode=RGB size=288x288>"
            ],
            "image/png": "[encoded data removed]"
          },
          "metadata": {},
          "execution_count": 18
        }
      ]
    },
    {
      "cell_type": "markdown",
      "source": [
        "## Generating mixes of digits\n",
        "As an experiment, see what happens when we combine the embedding vectors for different digits.\n",
        "\n",
        "In my experience, 4 and 9 are very easy to mix up, so let's embrace that."
      ],
      "metadata": {
        "id": "_tv_gIkSbDSO"
      }
    },
    {
      "cell_type": "code",
      "source": [
        "model.eval()\n",
        "\n",
        "num_samples = 9\n",
        "\n",
        "c = 0.5 * mnist_encoder(\"4\",num_samples) + 0.5 * mnist_encoder(\"9\",num_samples)\n",
        "noise = torch.randn(size=(num_samples,1,32,32)).to(device)\n",
        "print(noise.shape)\n",
        "print(type(c))\n",
        "print(c.shape)\n",
        "with torch.no_grad():\n",
        "    imgs = model(noise, conditional_inputs={\"context\": c})\n",
        "\n",
        "img_grid = torchvision.utils.make_grid(imgs, 3)\n",
        "img = F.to_pil_image((img_grid + 1) / 2)\n",
        "img.resize((288, 288))"
      ],
      "metadata": {
        "colab": {
          "base_uri": "https://localhost:8080/",
          "height": 389,
          "referenced_widgets": [
            "864f5bbeee9a4c4c919a4fef37f0529b",
            "f6a88b81c91d4e2aae900721810c27c0",
            "0c15a8145c2d4f0e83469f9371fee5a4",
            "1d658382caaf4ef1a5fe8d8ecea2d8d9",
            "5e3d7f5a6dbf41c688be12e74e00819c",
            "a11b54b3abd245879c02ce9e94b3fdca",
            "d320f8e3beef4c7e9cd48cff86ff0290",
            "97ce4bc92afd42d6ae72980cf54c0f0c",
            "8f71472eabd44f4ba681e8f7643001e8",
            "4a12af58a776454e8923a4c7849b80f7",
            "3937982111f946b4b24c87a4c6f64561"
          ]
        },
        "id": "AqlmdGWWQGQr",
        "outputId": "4d47a954-598a-4a9c-ca59-c95f742e9184"
      },
      "execution_count": null,
      "outputs": [
        {
          "output_type": "stream",
          "name": "stdout",
          "text": [
            "torch.Size([9, 1, 32, 32])\n",
            "<class 'torch.Tensor'>\n",
            "torch.Size([9, 32])\n"
          ]
        },
        {
          "output_type": "display_data",
          "data": {
            "text/plain": [
              "  0%|          | 0/250 [00:00<?, ?it/s]"
            ],
            "application/vnd.jupyter.widget-view+json": {
              "version_major": 2,
              "version_minor": 0,
              "model_id": "864f5bbeee9a4c4c919a4fef37f0529b"
            }
          },
          "metadata": {}
        },
        {
          "output_type": "execute_result",
          "data": {
            "text/plain": [
              "<PIL.Image.Image image mode=RGB size=288x288>"
            ],
            "image/png": "[encoded data removed]"
          },
          "metadata": {},
          "execution_count": 19
        }
      ]
    },
    {
      "cell_type": "markdown",
      "source": [
        "Some of the above are clearly 9 or 4, but some are a little ambiguous, and at two of them appear to have features of both 4 and 9."
      ],
      "metadata": {
        "id": "HFaodvplbcED"
      }
    },
    {
      "cell_type": "code",
      "source": [
        "model.eval()\n",
        "\n",
        "num_samples = 9\n",
        "\n",
        "c = 0.1 * mnist_encoder(\"0\",num_samples) + 0.1 * mnist_encoder(\"1\",num_samples) + 0.1 * mnist_encoder(\"2\",num_samples)\n",
        "c+= 0.1 * mnist_encoder(\"3\",num_samples) + 0.1 * mnist_encoder(\"4\",num_samples) + 0.1 * mnist_encoder(\"5\",num_samples)\n",
        "c+= 0.1 * mnist_encoder(\"6\",num_samples) + 0.1 * mnist_encoder(\"7\",num_samples) + 0.1 * mnist_encoder(\"8\",num_samples)\n",
        "c+= 0.1 * mnist_encoder(\"9\",num_samples)\n",
        "noise = torch.randn(size=(num_samples,1,32,32)).to(device)\n",
        "print(noise.shape)\n",
        "print(type(c))\n",
        "print(c.shape)\n",
        "with torch.no_grad():\n",
        "    imgs = model(noise, conditional_inputs={\"context\": c})\n",
        "\n",
        "img_grid = torchvision.utils.make_grid(imgs, 3)\n",
        "img = F.to_pil_image((img_grid + 1) / 2)\n",
        "img.resize((288, 288))"
      ],
      "metadata": {
        "colab": {
          "base_uri": "https://localhost:8080/",
          "height": 389,
          "referenced_widgets": [
            "a1ea676980c94bc09ccd4ca3c9f57cea",
            "0fcf3d9a63364308aa6151b245581c58",
            "930d2df823524898a62a3e721cd900f9",
            "06989c53cad64ecb91b47401400d61cd",
            "692e1bad885d44a58c3351514f1059d1",
            "f2a4924197f14440ab035df414b0b938",
            "50a1a75aaee245c9b14c6e0ba147ba57",
            "4aaf59cdab924d06bebd8dc34a9020bf",
            "ac77220b2e574b389aeca3356c59ba1f",
            "eee3eacf3d12403b82dc4cd49f17f9b0",
            "3568aa52cc424ab38f51536b812778fe"
          ]
        },
        "id": "5S4W_-f7Q2sS",
        "outputId": "e78488f6-23f5-4125-a35d-20a8df2341d7"
      },
      "execution_count": null,
      "outputs": [
        {
          "output_type": "stream",
          "name": "stdout",
          "text": [
            "torch.Size([9, 1, 32, 32])\n",
            "<class 'torch.Tensor'>\n",
            "torch.Size([9, 32])\n"
          ]
        },
        {
          "output_type": "display_data",
          "data": {
            "text/plain": [
              "  0%|          | 0/250 [00:00<?, ?it/s]"
            ],
            "application/vnd.jupyter.widget-view+json": {
              "version_major": 2,
              "version_minor": 0,
              "model_id": "a1ea676980c94bc09ccd4ca3c9f57cea"
            }
          },
          "metadata": {}
        },
        {
          "output_type": "execute_result",
          "data": {
            "text/plain": [
              "<PIL.Image.Image image mode=RGB size=288x288>"
            ],
            "image/png": "[encoded data removed]"
          },
          "metadata": {},
          "execution_count": 20
        }
      ]
    }
  ]
}