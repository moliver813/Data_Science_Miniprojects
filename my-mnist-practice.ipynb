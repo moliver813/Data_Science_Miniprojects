{
 "cells": [
  {
   "cell_type": "markdown",
   "id": "1229a948",
   "metadata": {
    "papermill": {
     "duration": 0.008492,
     "end_time": "2023-12-06T18:41:24.876428",
     "exception": false,
     "start_time": "2023-12-06T18:41:24.867936",
     "status": "completed"
    },
    "tags": []
   },
   "source": [
    "# MNIST Practice\n",
    "\n",
    "## Goals\n",
    "* Use PyTorch to do a somewhat basic classifier"
   ]
  },
  {
   "cell_type": "code",
   "execution_count": 1,
   "id": "e477db21",
   "metadata": {
    "_cell_guid": "b1076dfc-b9ad-4769-8c92-a6c4dae69d19",
    "_uuid": "8f2839f25d086af736a60e9eeb907d3b93b6e0e5",
    "execution": {
     "iopub.execute_input": "2023-12-06T18:41:24.891203Z",
     "iopub.status.busy": "2023-12-06T18:41:24.890439Z",
     "iopub.status.idle": "2023-12-06T18:41:29.705000Z",
     "shell.execute_reply": "2023-12-06T18:41:29.703928Z"
    },
    "papermill": {
     "duration": 4.82438,
     "end_time": "2023-12-06T18:41:29.707216",
     "exception": false,
     "start_time": "2023-12-06T18:41:24.882836",
     "status": "completed"
    },
    "tags": []
   },
   "outputs": [
    {
     "name": "stderr",
     "output_type": "stream",
     "text": [
      "/opt/conda/lib/python3.10/site-packages/torchvision/datapoints/__init__.py:12: UserWarning: The torchvision.datapoints and torchvision.transforms.v2 namespaces are still Beta. While we do not expect major breaking changes, some APIs may still change according to user feedback. Please submit any feedback you may have in this issue: https://github.com/pytorch/vision/issues/6753, and you can also check out https://github.com/pytorch/vision/issues/7319 to learn more about the APIs that we suspect might involve future changes. You can silence this warning by calling torchvision.disable_beta_transforms_warning().\n",
      "  warnings.warn(_BETA_TRANSFORMS_WARNING)\n",
      "/opt/conda/lib/python3.10/site-packages/torchvision/transforms/v2/__init__.py:54: UserWarning: The torchvision.datapoints and torchvision.transforms.v2 namespaces are still Beta. While we do not expect major breaking changes, some APIs may still change according to user feedback. Please submit any feedback you may have in this issue: https://github.com/pytorch/vision/issues/6753, and you can also check out https://github.com/pytorch/vision/issues/7319 to learn more about the APIs that we suspect might involve future changes. You can silence this warning by calling torchvision.disable_beta_transforms_warning().\n",
      "  warnings.warn(_BETA_TRANSFORMS_WARNING)\n"
     ]
    }
   ],
   "source": [
    "import numpy as np # linear algebra\n",
    "import pandas as pd # data processing, CSV file I/O (e.g. pd.read_csv)\n",
    "import seaborn as sns\n",
    "import matplotlib.pyplot as plt\n",
    "import os\n",
    "import torch\n",
    "import torch.nn as nn\n",
    "import torch.optim as optim\n",
    "import torch.nn.functional as F\n",
    "import torchvision\n",
    "import torchvision.transforms as transforms\n",
    "from torchvision.transforms import v2\n",
    "\n",
    "from torch.utils.data import DataLoader"
   ]
  },
  {
   "cell_type": "code",
   "execution_count": 2,
   "id": "a59333ca",
   "metadata": {
    "execution": {
     "iopub.execute_input": "2023-12-06T18:41:29.722418Z",
     "iopub.status.busy": "2023-12-06T18:41:29.721628Z",
     "iopub.status.idle": "2023-12-06T18:41:29.725934Z",
     "shell.execute_reply": "2023-12-06T18:41:29.725269Z"
    },
    "papermill": {
     "duration": 0.013444,
     "end_time": "2023-12-06T18:41:29.727764",
     "exception": false,
     "start_time": "2023-12-06T18:41:29.714320",
     "status": "completed"
    },
    "tags": []
   },
   "outputs": [],
   "source": [
    "num_labels = 10 # for for each digit\n",
    "\n",
    "num_epochs = 100"
   ]
  },
  {
   "cell_type": "code",
   "execution_count": 3,
   "id": "fe311bdb",
   "metadata": {
    "execution": {
     "iopub.execute_input": "2023-12-06T18:41:29.741144Z",
     "iopub.status.busy": "2023-12-06T18:41:29.740658Z",
     "iopub.status.idle": "2023-12-06T18:41:29.746290Z",
     "shell.execute_reply": "2023-12-06T18:41:29.745353Z"
    },
    "papermill": {
     "duration": 0.014379,
     "end_time": "2023-12-06T18:41:29.748059",
     "exception": false,
     "start_time": "2023-12-06T18:41:29.733680",
     "status": "completed"
    },
    "tags": []
   },
   "outputs": [
    {
     "name": "stdout",
     "output_type": "stream",
     "text": [
      "Using cpu device\n"
     ]
    }
   ],
   "source": [
    "# Check the device information\n",
    "device = (\n",
    "    \"cuda\"\n",
    "    if torch.cuda.is_available()\n",
    "    else \"mps\"\n",
    "    if torch.backends.mps.is_available()\n",
    "    else \"cpu\"\n",
    ")\n",
    "print(f\"Using {device} device\")"
   ]
  },
  {
   "cell_type": "markdown",
   "id": "92a26aeb",
   "metadata": {
    "papermill": {
     "duration": 0.005709,
     "end_time": "2023-12-06T18:41:29.759826",
     "exception": false,
     "start_time": "2023-12-06T18:41:29.754117",
     "status": "completed"
    },
    "tags": []
   },
   "source": [
    "## Getting the data\n"
   ]
  },
  {
   "cell_type": "code",
   "execution_count": 4,
   "id": "ddce53fe",
   "metadata": {
    "execution": {
     "iopub.execute_input": "2023-12-06T18:41:29.773401Z",
     "iopub.status.busy": "2023-12-06T18:41:29.772636Z",
     "iopub.status.idle": "2023-12-06T18:41:32.554697Z",
     "shell.execute_reply": "2023-12-06T18:41:32.553378Z"
    },
    "papermill": {
     "duration": 2.791381,
     "end_time": "2023-12-06T18:41:32.557148",
     "exception": false,
     "start_time": "2023-12-06T18:41:29.765767",
     "status": "completed"
    },
    "tags": []
   },
   "outputs": [
    {
     "name": "stderr",
     "output_type": "stream",
     "text": [
      "/opt/conda/lib/python3.10/site-packages/torchvision/transforms/v2/_deprecated.py:41: UserWarning: The transform `ToTensor()` is deprecated and will be removed in a future release. Instead, please use `transforms.Compose([transforms.ToImageTensor(), transforms.ConvertImageDtype()])`.\n",
      "  warnings.warn(\n"
     ]
    },
    {
     "name": "stdout",
     "output_type": "stream",
     "text": [
      "Downloading http://yann.lecun.com/exdb/mnist/train-images-idx3-ubyte.gz\n",
      "Downloading http://yann.lecun.com/exdb/mnist/train-images-idx3-ubyte.gz to data_train/MNIST/raw/train-images-idx3-ubyte.gz\n"
     ]
    },
    {
     "name": "stderr",
     "output_type": "stream",
     "text": [
      "100%|██████████| 9912422/9912422 [00:00<00:00, 81892892.52it/s]\n"
     ]
    },
    {
     "name": "stdout",
     "output_type": "stream",
     "text": [
      "Extracting data_train/MNIST/raw/train-images-idx3-ubyte.gz to data_train/MNIST/raw\n",
      "\n",
      "Downloading http://yann.lecun.com/exdb/mnist/train-labels-idx1-ubyte.gz\n",
      "Downloading http://yann.lecun.com/exdb/mnist/train-labels-idx1-ubyte.gz to data_train/MNIST/raw/train-labels-idx1-ubyte.gz\n"
     ]
    },
    {
     "name": "stderr",
     "output_type": "stream",
     "text": [
      "100%|██████████| 28881/28881 [00:00<00:00, 110930122.55it/s]"
     ]
    },
    {
     "name": "stdout",
     "output_type": "stream",
     "text": [
      "Extracting data_train/MNIST/raw/train-labels-idx1-ubyte.gz to data_train/MNIST/raw\n",
      "\n",
      "Downloading http://yann.lecun.com/exdb/mnist/t10k-images-idx3-ubyte.gz\n",
      "Downloading http://yann.lecun.com/exdb/mnist/t10k-images-idx3-ubyte.gz to data_train/MNIST/raw/t10k-images-idx3-ubyte.gz\n"
     ]
    },
    {
     "name": "stderr",
     "output_type": "stream",
     "text": [
      "\n",
      "100%|██████████| 1648877/1648877 [00:00<00:00, 19742429.18it/s]\n"
     ]
    },
    {
     "name": "stdout",
     "output_type": "stream",
     "text": [
      "Extracting data_train/MNIST/raw/t10k-images-idx3-ubyte.gz to data_train/MNIST/raw\n",
      "\n",
      "Downloading http://yann.lecun.com/exdb/mnist/t10k-labels-idx1-ubyte.gz\n",
      "Downloading http://yann.lecun.com/exdb/mnist/t10k-labels-idx1-ubyte.gz to data_train/MNIST/raw/t10k-labels-idx1-ubyte.gz\n"
     ]
    },
    {
     "name": "stderr",
     "output_type": "stream",
     "text": [
      "100%|██████████| 4542/4542 [00:00<00:00, 11199605.39it/s]\n"
     ]
    },
    {
     "name": "stdout",
     "output_type": "stream",
     "text": [
      "Extracting data_train/MNIST/raw/t10k-labels-idx1-ubyte.gz to data_train/MNIST/raw\n",
      "\n",
      "Downloading http://yann.lecun.com/exdb/mnist/train-images-idx3-ubyte.gz\n",
      "Downloading http://yann.lecun.com/exdb/mnist/train-images-idx3-ubyte.gz to data_test/MNIST/raw/train-images-idx3-ubyte.gz\n"
     ]
    },
    {
     "name": "stderr",
     "output_type": "stream",
     "text": [
      "100%|██████████| 9912422/9912422 [00:00<00:00, 76453063.76it/s]\n"
     ]
    },
    {
     "name": "stdout",
     "output_type": "stream",
     "text": [
      "Extracting data_test/MNIST/raw/train-images-idx3-ubyte.gz to data_test/MNIST/raw\n",
      "\n",
      "Downloading http://yann.lecun.com/exdb/mnist/train-labels-idx1-ubyte.gz\n",
      "Downloading http://yann.lecun.com/exdb/mnist/train-labels-idx1-ubyte.gz to data_test/MNIST/raw/train-labels-idx1-ubyte.gz\n"
     ]
    },
    {
     "name": "stderr",
     "output_type": "stream",
     "text": [
      "100%|██████████| 28881/28881 [00:00<00:00, 41062947.06it/s]\n"
     ]
    },
    {
     "name": "stdout",
     "output_type": "stream",
     "text": [
      "Extracting data_test/MNIST/raw/train-labels-idx1-ubyte.gz to data_test/MNIST/raw\n",
      "\n",
      "Downloading http://yann.lecun.com/exdb/mnist/t10k-images-idx3-ubyte.gz\n",
      "Downloading http://yann.lecun.com/exdb/mnist/t10k-images-idx3-ubyte.gz to data_test/MNIST/raw/t10k-images-idx3-ubyte.gz\n"
     ]
    },
    {
     "name": "stderr",
     "output_type": "stream",
     "text": [
      "100%|██████████| 1648877/1648877 [00:00<00:00, 18799364.46it/s]\n"
     ]
    },
    {
     "name": "stdout",
     "output_type": "stream",
     "text": [
      "Extracting data_test/MNIST/raw/t10k-images-idx3-ubyte.gz to data_test/MNIST/raw\n",
      "\n",
      "Downloading http://yann.lecun.com/exdb/mnist/t10k-labels-idx1-ubyte.gz\n",
      "Downloading http://yann.lecun.com/exdb/mnist/t10k-labels-idx1-ubyte.gz to data_test/MNIST/raw/t10k-labels-idx1-ubyte.gz\n"
     ]
    },
    {
     "name": "stderr",
     "output_type": "stream",
     "text": [
      "100%|██████████| 4542/4542 [00:00<00:00, 8075679.85it/s]"
     ]
    },
    {
     "name": "stdout",
     "output_type": "stream",
     "text": [
      "Extracting data_test/MNIST/raw/t10k-labels-idx1-ubyte.gz to data_test/MNIST/raw\n",
      "\n"
     ]
    },
    {
     "name": "stderr",
     "output_type": "stream",
     "text": [
      "\n"
     ]
    }
   ],
   "source": [
    "# old\n",
    "#transform = transforms.Compose([\n",
    "#    transforms.ToTensor(),\n",
    "#    transforms.Normalize((0.5,),(0.5)) # map data set from 0-255 to -1 to 1\n",
    "#])\n",
    "transform = v2.Compose([\n",
    "    v2.ToTensor(),\n",
    "    v2.Normalize(mean=[0.5],std=[0.5]), # map data set from 0-255 to -1 to 1\n",
    "    v2.ElasticTransform(alpha = 50.0,sigma = 5.0,fill = -1) # apply elastic deformation\n",
    "])\n",
    "\n",
    "\n",
    "os.makedirs('data_train',exist_ok=True)\n",
    "\n",
    "# Need to verify that the training and other datasets are non-overlapping\n",
    "\n",
    "# torchvision.datasets.MNIST(root: str, train: bool = True, transform: Optional[Callable] = None, target_transform: Optional[Callable] = None, download: bool = False)\n",
    "mnist_set = torchvision.datasets.MNIST(root=\"data_train\",train=True,download=True,transform=transform)\n",
    "\n",
    "\n",
    "# Separate transforms for the testing set\n",
    "transform_test = transforms.Compose([\n",
    "    transforms.ToTensor(),\n",
    "    transforms.Normalize((0.5,),(0.5)) # map data set from 0-255 to -1 to 1\n",
    "])\n",
    "\n",
    "os.makedirs('data_test',exist_ok=True)\n",
    "mnist_set_test = torchvision.datasets.MNIST(root=\"data_test\",train=False,download=True,transform=transform_test)\n",
    "\n"
   ]
  },
  {
   "cell_type": "code",
   "execution_count": 5,
   "id": "798d03f4",
   "metadata": {
    "execution": {
     "iopub.execute_input": "2023-12-06T18:41:32.576498Z",
     "iopub.status.busy": "2023-12-06T18:41:32.576108Z",
     "iopub.status.idle": "2023-12-06T18:41:32.582754Z",
     "shell.execute_reply": "2023-12-06T18:41:32.581787Z"
    },
    "papermill": {
     "duration": 0.018493,
     "end_time": "2023-12-06T18:41:32.584657",
     "exception": false,
     "start_time": "2023-12-06T18:41:32.566164",
     "status": "completed"
    },
    "tags": []
   },
   "outputs": [
    {
     "name": "stdout",
     "output_type": "stream",
     "text": [
      "Have 1875 training batches and 313 testing batches.\n"
     ]
    }
   ],
   "source": [
    "# Data Loader\n",
    "batch_size = 32\n",
    "mnist_loader      = DataLoader(dataset=mnist_set,batch_size=batch_size,shuffle=True)\n",
    "mnist_loader_test = DataLoader(dataset=mnist_set_test,batch_size=batch_size,shuffle=True)\n",
    "\n",
    "num_batches = len(mnist_loader)\n",
    "num_batches_test = len(mnist_loader_test)\n",
    "\n",
    "print(f\"Have {num_batches} training batches and {num_batches_test} testing batches.\")"
   ]
  },
  {
   "cell_type": "markdown",
   "id": "0660a740",
   "metadata": {
    "papermill": {
     "duration": 0.00856,
     "end_time": "2023-12-06T18:41:32.602228",
     "exception": false,
     "start_time": "2023-12-06T18:41:32.593668",
     "status": "completed"
    },
    "tags": []
   },
   "source": [
    "# Printing Examples"
   ]
  },
  {
   "cell_type": "code",
   "execution_count": 6,
   "id": "9f899387",
   "metadata": {
    "execution": {
     "iopub.execute_input": "2023-12-06T18:41:32.621446Z",
     "iopub.status.busy": "2023-12-06T18:41:32.621089Z",
     "iopub.status.idle": "2023-12-06T18:41:33.395722Z",
     "shell.execute_reply": "2023-12-06T18:41:33.394713Z"
    },
    "papermill": {
     "duration": 0.7869,
     "end_time": "2023-12-06T18:41:33.397897",
     "exception": false,
     "start_time": "2023-12-06T18:41:32.610997",
     "status": "completed"
    },
    "tags": []
   },
   "outputs": [
    {
     "name": "stdout",
     "output_type": "stream",
     "text": [
      "tensor([3, 4, 8, 5, 7, 9, 7, 1, 6, 4, 6, 4, 8, 9, 0, 1, 0, 4, 2, 7, 0, 1, 9, 5,\n",
      "        1, 8, 0, 6, 0, 1, 6, 9])\n",
      "torch.Size([32, 1, 28, 28])\n",
      "tensor([-1.0000, -0.7514, -1.0000, -1.0000, -1.0000, -1.0000, -1.0000, -1.0000,\n",
      "        -1.0000, -1.0000, -1.0000, -0.9198, -0.0452,  0.8690,  0.9765,  0.9769,\n",
      "         0.9822,  0.9765,  0.9765,  0.9765,  0.9765,  0.8509,  0.0579, -0.8337,\n",
      "        -1.0000, -1.0000, -1.0000, -0.7584])\n",
      "28\n"
     ]
    },
    {
     "data": {
      "image/png": "[encoded data removed]",
      "text/plain": [
       "<Figure size 1000x500 with 10 Axes>"
      ]
     },
     "metadata": {},
     "output_type": "display_data"
    }
   ],
   "source": [
    "train_features, train_labels = next(iter(mnist_loader))\n",
    "print(train_labels)\n",
    "print(train_features.shape)\n",
    "print(train_features[0][0][13])\n",
    "\n",
    "image_size = train_features.shape[2]\n",
    "print(image_size)\n",
    "\n",
    "num_to_plot = 10\n",
    "fig, ax = plt.subplots(1,num_to_plot,figsize=(10,5))\n",
    "for i in range(num_to_plot):\n",
    "    ax[i].imshow(train_features[i].squeeze(),cmap='binary')\n",
    "    ax[i].set_title(train_labels[i].item())\n",
    "    ax[i].set_xticks([])\n",
    "    ax[i].set_yticks([])"
   ]
  },
  {
   "cell_type": "code",
   "execution_count": 7,
   "id": "e84213e4",
   "metadata": {
    "execution": {
     "iopub.execute_input": "2023-12-06T18:41:33.418500Z",
     "iopub.status.busy": "2023-12-06T18:41:33.418096Z",
     "iopub.status.idle": "2023-12-06T18:41:33.948971Z",
     "shell.execute_reply": "2023-12-06T18:41:33.947870Z"
    },
    "papermill": {
     "duration": 0.544935,
     "end_time": "2023-12-06T18:41:33.952487",
     "exception": false,
     "start_time": "2023-12-06T18:41:33.407552",
     "status": "completed"
    },
    "tags": []
   },
   "outputs": [
    {
     "name": "stdout",
     "output_type": "stream",
     "text": [
      "tensor([9, 9, 9, 7, 3, 8, 1, 7, 1, 1, 0, 5, 0, 8, 6, 8, 4, 5, 1, 5, 2, 2, 4, 7,\n",
      "        5, 9, 7, 1, 8, 6, 3, 2])\n",
      "torch.Size([32, 1, 28, 28])\n",
      "tensor([-1.0000, -1.0000, -1.0000, -1.0000, -1.0000, -1.0000,  0.0980,  0.9843,\n",
      "         0.9843,  0.2784, -0.9373, -1.0000, -1.0000, -1.0000, -1.0000,  0.9529,\n",
      "         0.9843,  0.9843,  0.9843,  0.8275, -1.0000, -1.0000, -1.0000, -1.0000,\n",
      "        -1.0000, -1.0000, -1.0000, -1.0000])\n",
      "28\n"
     ]
    },
    {
     "data": {
      "image/png": "[encoded data removed]",
      "text/plain": [
       "<Figure size 1000x500 with 10 Axes>"
      ]
     },
     "metadata": {},
     "output_type": "display_data"
    }
   ],
   "source": [
    "# repeat the same for the testing/validation\n",
    "\n",
    "train_features, train_labels = next(iter(mnist_loader_test))\n",
    "print(train_labels)\n",
    "print(train_features.shape)\n",
    "print(train_features[0][0][13])\n",
    "\n",
    "image_size = train_features.shape[2]\n",
    "print(image_size)\n",
    "\n",
    "num_to_plot = 10\n",
    "fig, ax = plt.subplots(1,num_to_plot,figsize=(10,5))\n",
    "for i in range(num_to_plot):\n",
    "    ax[i].imshow(train_features[i].squeeze(),cmap='binary')\n",
    "    ax[i].set_title(train_labels[i].item())\n",
    "    ax[i].set_xticks([])\n",
    "    ax[i].set_yticks([])"
   ]
  },
  {
   "cell_type": "code",
   "execution_count": 8,
   "id": "4d1b28ed",
   "metadata": {
    "execution": {
     "iopub.execute_input": "2023-12-06T18:41:33.977670Z",
     "iopub.status.busy": "2023-12-06T18:41:33.976691Z",
     "iopub.status.idle": "2023-12-06T18:41:33.980704Z",
     "shell.execute_reply": "2023-12-06T18:41:33.979855Z"
    },
    "papermill": {
     "duration": 0.017043,
     "end_time": "2023-12-06T18:41:33.982513",
     "exception": false,
     "start_time": "2023-12-06T18:41:33.965470",
     "status": "completed"
    },
    "tags": []
   },
   "outputs": [],
   "source": [
    "#count = 0\n",
    "#for batch in mnist_loader:\n",
    "#    images, labels = batch\n",
    "#    break\n"
   ]
  },
  {
   "cell_type": "markdown",
   "id": "e74a01cd",
   "metadata": {
    "papermill": {
     "duration": 0.010257,
     "end_time": "2023-12-06T18:41:34.003307",
     "exception": false,
     "start_time": "2023-12-06T18:41:33.993050",
     "status": "completed"
    },
    "tags": []
   },
   "source": [
    "## Planning Notes\n",
    "* Should use a neural network with 10 output nodes, linear output. This gets plugged into the the logistic function, giving the probability for each.\n",
    "* What about normalizing the output so that each output, after applying the logistic function"
   ]
  },
  {
   "cell_type": "code",
   "execution_count": 9,
   "id": "5d50eb2b",
   "metadata": {
    "execution": {
     "iopub.execute_input": "2023-12-06T18:41:34.025586Z",
     "iopub.status.busy": "2023-12-06T18:41:34.025035Z",
     "iopub.status.idle": "2023-12-06T18:41:34.045704Z",
     "shell.execute_reply": "2023-12-06T18:41:34.044702Z"
    },
    "papermill": {
     "duration": 0.034197,
     "end_time": "2023-12-06T18:41:34.047547",
     "exception": false,
     "start_time": "2023-12-06T18:41:34.013350",
     "status": "completed"
    },
    "tags": []
   },
   "outputs": [
    {
     "name": "stdout",
     "output_type": "stream",
     "text": [
      "<class 'torch.Tensor'>\n",
      "tensor(4.6169, grad_fn=<SumBackward1>)\n"
     ]
    }
   ],
   "source": [
    "# useful for one-hot encoding the truth variables\n",
    "# identity_tensor = torch.eye(num_labels)\n",
    "\n",
    "\n",
    "# from this: https://neuralthreads.medium.com/categorical-cross-entropy-loss-the-most-important-loss-function-d3792151d05b\n",
    "# it seems like there is potential for optimization by explicitly giving the analytical \n",
    "\n",
    "debug_cat = False\n",
    "# mimicking the from_logits variable from TF\n",
    "#\n",
    "def CatCrossEntropy(result,truth,from_logits=True):\n",
    "    \"\"\"\n",
    "     Args:\n",
    "        result (tensor): Results from the model, to be compared to the truth (batch_dim,num_labels)\n",
    "        truth (tensor): Target of the model (batch_dim,)\n",
    "        from_logits (bool): If true, assume linear input. If false, assume logistic function already applied\n",
    " \n",
    "    \"\"\"\n",
    "    if (debug_cat):\n",
    "        print(result)\n",
    "        print(truth)\n",
    "    batch_size = result.shape[0]\n",
    "    total = 0\n",
    "    if from_logits:\n",
    "        softmaxed_input = torch.softmax(result,dim=-1) # apply along the last dimension\n",
    "    else:\n",
    "        softmaxed_input = result\n",
    "    if debug_cat:\n",
    "        print(\"Sum of softmax\")\n",
    "        print(torch.sum(softmaxed_input,dim=1))\n",
    "        \n",
    "    #log_truth = torch.log(truth)\n",
    "    # encode truth as one-hot\n",
    "    truth_one_hot = torch.zeros((batch_size,num_labels)).to(device)\n",
    "    # would it be faster to have one tensor that is always on the device?\n",
    "    for i in range(batch_size):\n",
    "        truth_val = int(truth[i])\n",
    "        truth_one_hot[i][truth_val] = 1.0\n",
    "    if debug_cat:\n",
    "        print(\"Tensors to multiply\")\n",
    "        print(softmaxed_input)\n",
    "        print(truth_one_hot)\n",
    "    \n",
    "    # sum up -truth_one_hot * log(softmax_input)\n",
    "    total = - torch.sum(truth_one_hot*torch.log(softmaxed_input),dim=[1])\n",
    "    # sum up over batch\n",
    "    total = torch.sum(total,dim=[0])\n",
    "    \n",
    "    return total\n",
    "\n",
    "\n",
    "test_tensor1 = torch.tensor([[0.,1.,2.,3.,4.,5.,6.,7.,8.,9.,],\n",
    "                             [0.,0.,0.,0.,0.,5.,0.,0.,0.,0.5,],\n",
    "                             [0.5,0.5,0.5,0.5,0.5,5.,0.5,0.5,0.5,0.5,]],requires_grad=True) # mimicking a linear output\n",
    "test_tensor2 = torch.tensor([5,5,5]) # mimicking a truth label\n",
    "#load to device\n",
    "test_tensor1 = test_tensor1.to(device)\n",
    "test_tensor2 = test_tensor2.to(device)\n",
    "\n",
    "test_entropy = CatCrossEntropy(test_tensor1,test_tensor2)\n",
    "print(type(test_entropy))\n",
    "print(test_entropy)"
   ]
  },
  {
   "cell_type": "code",
   "execution_count": null,
   "id": "6b295540",
   "metadata": {
    "papermill": {
     "duration": 0.01001,
     "end_time": "2023-12-06T18:41:34.069508",
     "exception": false,
     "start_time": "2023-12-06T18:41:34.059498",
     "status": "completed"
    },
    "tags": []
   },
   "outputs": [],
   "source": []
  },
  {
   "cell_type": "markdown",
   "id": "bb1d3ca5",
   "metadata": {
    "papermill": {
     "duration": 0.009763,
     "end_time": "2023-12-06T18:41:34.089414",
     "exception": false,
     "start_time": "2023-12-06T18:41:34.079651",
     "status": "completed"
    },
    "tags": []
   },
   "source": [
    "## Buiding the Model"
   ]
  },
  {
   "cell_type": "code",
   "execution_count": 10,
   "id": "5273a008",
   "metadata": {
    "execution": {
     "iopub.execute_input": "2023-12-06T18:41:34.111474Z",
     "iopub.status.busy": "2023-12-06T18:41:34.110510Z",
     "iopub.status.idle": "2023-12-06T18:41:34.119235Z",
     "shell.execute_reply": "2023-12-06T18:41:34.118293Z"
    },
    "papermill": {
     "duration": 0.022071,
     "end_time": "2023-12-06T18:41:34.121357",
     "exception": false,
     "start_time": "2023-12-06T18:41:34.099286",
     "status": "completed"
    },
    "tags": []
   },
   "outputs": [],
   "source": [
    "debug_nn = False\n",
    "\n",
    "\n",
    "class MyNeuralNetwork(nn.Module):\n",
    "    def __init__(self):\n",
    "        super().__init__()\n",
    "        self.conv1 = nn.Conv2d(1,12,(3,3),padding='same',padding_mode='replicate')\n",
    "        self.pool = nn.MaxPool2d(2, 2)\n",
    "        self.conv2 = nn.Conv2d(12,24,(3,3))\n",
    "        self.linear_relu_stack = nn.Sequential(\n",
    "            nn.Linear(864,200),\n",
    "            nn.ReLU(),\n",
    "            nn.Linear(200,100),\n",
    "            nn.ReLU(),\n",
    "            nn.Linear(100,10),\n",
    "        )\n",
    "    def forward(self,x):\n",
    "        #x = x.squeeze() \n",
    "        # note: Conv2d normally pads with 0s. But the empty value in the images is now -1.\n",
    "        if (debug_nn):\n",
    "            print(x.shape)\n",
    "        x = F.relu(self.conv1(x))\n",
    "        if (debug_nn):\n",
    "            print(x.shape)\n",
    "        x = self.pool(x)\n",
    "        x = self.pool(F.relu(self.conv2(x)))\n",
    "        x = torch.flatten(x, 1)\n",
    "        if (debug_nn):\n",
    "            print(x.shape)\n",
    "        x = self.linear_relu_stack(x)\n",
    "        return x\n",
    "    \n",
    "    "
   ]
  },
  {
   "cell_type": "code",
   "execution_count": 11,
   "id": "609f42e2",
   "metadata": {
    "execution": {
     "iopub.execute_input": "2023-12-06T18:41:34.143166Z",
     "iopub.status.busy": "2023-12-06T18:41:34.142226Z",
     "iopub.status.idle": "2023-12-06T18:41:34.155412Z",
     "shell.execute_reply": "2023-12-06T18:41:34.154379Z"
    },
    "papermill": {
     "duration": 0.026119,
     "end_time": "2023-12-06T18:41:34.157397",
     "exception": false,
     "start_time": "2023-12-06T18:41:34.131278",
     "status": "completed"
    },
    "tags": []
   },
   "outputs": [
    {
     "name": "stdout",
     "output_type": "stream",
     "text": [
      "MyNeuralNetwork(\n",
      "  (conv1): Conv2d(1, 12, kernel_size=(3, 3), stride=(1, 1), padding=same, padding_mode=replicate)\n",
      "  (pool): MaxPool2d(kernel_size=2, stride=2, padding=0, dilation=1, ceil_mode=False)\n",
      "  (conv2): Conv2d(12, 24, kernel_size=(3, 3), stride=(1, 1))\n",
      "  (linear_relu_stack): Sequential(\n",
      "    (0): Linear(in_features=864, out_features=200, bias=True)\n",
      "    (1): ReLU()\n",
      "    (2): Linear(in_features=200, out_features=100, bias=True)\n",
      "    (3): ReLU()\n",
      "    (4): Linear(in_features=100, out_features=10, bias=True)\n",
      "  )\n",
      ")\n"
     ]
    }
   ],
   "source": [
    "torch.manual_seed(0)\n",
    "model = MyNeuralNetwork().to(device)\n",
    "print(model)"
   ]
  },
  {
   "cell_type": "code",
   "execution_count": 12,
   "id": "db992c24",
   "metadata": {
    "execution": {
     "iopub.execute_input": "2023-12-06T18:41:34.179759Z",
     "iopub.status.busy": "2023-12-06T18:41:34.178972Z",
     "iopub.status.idle": "2023-12-06T18:41:34.183458Z",
     "shell.execute_reply": "2023-12-06T18:41:34.182519Z"
    },
    "papermill": {
     "duration": 0.017829,
     "end_time": "2023-12-06T18:41:34.185452",
     "exception": false,
     "start_time": "2023-12-06T18:41:34.167623",
     "status": "completed"
    },
    "tags": []
   },
   "outputs": [],
   "source": [
    "from torch.optim.lr_scheduler import ExponentialLR"
   ]
  },
  {
   "cell_type": "code",
   "execution_count": 13,
   "id": "84e4e669",
   "metadata": {
    "execution": {
     "iopub.execute_input": "2023-12-06T18:41:34.207449Z",
     "iopub.status.busy": "2023-12-06T18:41:34.206873Z",
     "iopub.status.idle": "2023-12-06T18:41:34.211499Z",
     "shell.execute_reply": "2023-12-06T18:41:34.210671Z"
    },
    "papermill": {
     "duration": 0.01759,
     "end_time": "2023-12-06T18:41:34.213312",
     "exception": false,
     "start_time": "2023-12-06T18:41:34.195722",
     "status": "completed"
    },
    "tags": []
   },
   "outputs": [],
   "source": [
    "#criterion = nn.MSELoss()\n",
    "criterion = CatCrossEntropy\n",
    "optimizer = optim.SGD(model.parameters(), lr=0.005)\n",
    "scheduler = ExponentialLR(optimizer, gamma=0.995)\n",
    "num_epochs = 10"
   ]
  },
  {
   "cell_type": "code",
   "execution_count": 14,
   "id": "d0adc790",
   "metadata": {
    "execution": {
     "iopub.execute_input": "2023-12-06T18:41:34.234930Z",
     "iopub.status.busy": "2023-12-06T18:41:34.234416Z",
     "iopub.status.idle": "2023-12-06T19:04:05.754016Z",
     "shell.execute_reply": "2023-12-06T19:04:05.752759Z"
    },
    "papermill": {
     "duration": 1351.53326,
     "end_time": "2023-12-06T19:04:05.756653",
     "exception": false,
     "start_time": "2023-12-06T18:41:34.223393",
     "status": "completed"
    },
    "tags": []
   },
   "outputs": [
    {
     "name": "stdout",
     "output_type": "stream",
     "text": [
      "Epoch 1, Loss: 2.0864\n",
      "Epoch 2, Loss: 2.3117\n",
      "Epoch 3, Loss: 0.5236\n",
      "Epoch 4, Loss: 0.1803\n",
      "Epoch 5, Loss: 2.4119\n",
      "Epoch 6, Loss: 9.9397\n",
      "Epoch 7, Loss: 0.0289\n",
      "Epoch 8, Loss: 0.0147\n",
      "Epoch 9, Loss: 0.0472\n",
      "Epoch 10, Loss: 4.2520\n"
     ]
    }
   ],
   "source": [
    "print_steps = 1\n",
    "print_steps_batch = 5\n",
    "\n",
    "# note that this is currently saved at the batch level, not the epoch\n",
    "loss_train_list = []\n",
    "lr_list = []\n",
    "for epoch in range(num_epochs):\n",
    "    batch_count = 0\n",
    "    #for images,labels in mnist_loader:\n",
    "    for batch_id, batch in enumerate(mnist_loader):\n",
    "        images, labels = batch\n",
    "        images = images.to(device)\n",
    "        labels = labels.to(device)\n",
    "        #images, labels = batch\n",
    "        model.train()\n",
    "        output = model(images)\n",
    "        \n",
    "        loss = criterion(output,labels).to(device)\n",
    "        loss_train_list.append(loss.item())\n",
    "        \n",
    "        optimizer.zero_grad()\n",
    "        loss.backward()\n",
    "        optimizer.step()\n",
    "        \n",
    "        lr_list.append(scheduler.get_last_lr())\n",
    "        \n",
    "        if (batch_id + 1) % (print_steps_batch) == 0:\n",
    "            progress = 100.0 * batch_id / num_batches\n",
    "            print(f\"Epoch {epoch+1}, batch {batch_id + 1}. progress {progress:.2f}%, Loss: {loss.item():.4f}\",end='\\r')\n",
    "        \n",
    "        #batch_count += 1\n",
    "    if (epoch + 1) % print_steps == 0:\n",
    "        print(f\"Epoch {epoch+1}, Loss: {loss.item():.4f}\")\n",
    "        \n",
    "    scheduler.step() # try stepping the schedulear at the epoch level\n",
    "        \n"
   ]
  },
  {
   "cell_type": "code",
   "execution_count": 15,
   "id": "02e7e4fb",
   "metadata": {
    "execution": {
     "iopub.execute_input": "2023-12-06T19:04:06.240704Z",
     "iopub.status.busy": "2023-12-06T19:04:06.240005Z",
     "iopub.status.idle": "2023-12-06T19:04:06.565372Z",
     "shell.execute_reply": "2023-12-06T19:04:06.564230Z"
    },
    "papermill": {
     "duration": 0.570354,
     "end_time": "2023-12-06T19:04:06.567594",
     "exception": false,
     "start_time": "2023-12-06T19:04:05.997240",
     "status": "completed"
    },
    "tags": []
   },
   "outputs": [
    {
     "data": {
      "text/plain": [
       "[<matplotlib.lines.Line2D at 0x7a1cb8428f10>]"
      ]
     },
     "execution_count": 15,
     "metadata": {},
     "output_type": "execute_result"
    },
    {
     "data": {
      "image/png": "[encoded data removed]",
      "text/plain": [
       "<Figure size 640x480 with 1 Axes>"
      ]
     },
     "metadata": {},
     "output_type": "display_data"
    }
   ],
   "source": [
    "plt.plot(loss_train_list)"
   ]
  },
  {
   "cell_type": "code",
   "execution_count": 16,
   "id": "1524baae",
   "metadata": {
    "execution": {
     "iopub.execute_input": "2023-12-06T19:04:07.054425Z",
     "iopub.status.busy": "2023-12-06T19:04:07.053648Z",
     "iopub.status.idle": "2023-12-06T19:04:07.128451Z",
     "shell.execute_reply": "2023-12-06T19:04:07.127291Z"
    },
    "papermill": {
     "duration": 0.322053,
     "end_time": "2023-12-06T19:04:07.131167",
     "exception": false,
     "start_time": "2023-12-06T19:04:06.809114",
     "status": "completed"
    },
    "tags": []
   },
   "outputs": [],
   "source": [
    "# run a test with the training data\n",
    "train_features_local, train_labels_local = next(iter(mnist_loader))\n",
    "train_features = train_features_local.to(device)\n",
    "train_labels   = train_labels_local.to(device)\n"
   ]
  },
  {
   "cell_type": "code",
   "execution_count": 17,
   "id": "6cde72ea",
   "metadata": {
    "execution": {
     "iopub.execute_input": "2023-12-06T19:04:07.675458Z",
     "iopub.status.busy": "2023-12-06T19:04:07.675057Z",
     "iopub.status.idle": "2023-12-06T19:04:08.218926Z",
     "shell.execute_reply": "2023-12-06T19:04:08.217871Z"
    },
    "papermill": {
     "duration": 0.791112,
     "end_time": "2023-12-06T19:04:08.221308",
     "exception": false,
     "start_time": "2023-12-06T19:04:07.430196",
     "status": "completed"
    },
    "tags": []
   },
   "outputs": [
    {
     "name": "stdout",
     "output_type": "stream",
     "text": [
      "tensor([1, 1, 2, 4, 1, 1, 2, 4, 6, 8, 1, 8, 9, 6, 7, 2, 3, 1, 1, 1, 3, 3, 0, 8,\n",
      "        0, 8, 1, 7, 0, 0, 6, 6])\n",
      "tensor([1, 1, 2, 4, 1, 1, 2, 4, 6, 8, 1, 8, 9, 6, 7, 2, 3, 1, 1, 1, 3, 3, 0, 8,\n",
      "        0, 8, 1, 7, 0, 0, 6, 6])\n"
     ]
    },
    {
     "data": {
      "image/png": "[encoded data removed]",
      "text/plain": [
       "<Figure size 1000x500 with 10 Axes>"
      ]
     },
     "metadata": {},
     "output_type": "display_data"
    }
   ],
   "source": [
    "with torch.no_grad():\n",
    "    model.eval()\n",
    "    output = model(train_features)\n",
    "    output = torch.softmax(output,dim=-1)\n",
    "    output = torch.argmax(output,dim=-1)\n",
    "    output_local = output.cpu()\n",
    "    print(output)\n",
    "    print(train_labels)\n",
    "    \n",
    "num_to_plot = 10\n",
    "fig, ax = plt.subplots(1,num_to_plot,figsize=(10,5))\n",
    "for i in range(num_to_plot):\n",
    "    \n",
    "    \n",
    "    ax[i].imshow(train_features_local[i].squeeze(),cmap='binary')\n",
    "    ax[i].set_title(f\"{train_labels_local[i].item()} : {output_local[i].item()}\")\n",
    "    ax[i].set_xticks([])\n",
    "    ax[i].set_yticks([])"
   ]
  },
  {
   "cell_type": "code",
   "execution_count": 18,
   "id": "5d46b26c",
   "metadata": {
    "execution": {
     "iopub.execute_input": "2023-12-06T19:04:08.700864Z",
     "iopub.status.busy": "2023-12-06T19:04:08.700496Z",
     "iopub.status.idle": "2023-12-06T19:04:08.705014Z",
     "shell.execute_reply": "2023-12-06T19:04:08.703931Z"
    },
    "papermill": {
     "duration": 0.24698,
     "end_time": "2023-12-06T19:04:08.707007",
     "exception": false,
     "start_time": "2023-12-06T19:04:08.460027",
     "status": "completed"
    },
    "tags": []
   },
   "outputs": [],
   "source": [
    "# Test\n",
    "\n",
    "# Data Loader\n",
    "batch_size = 32\n",
    "#mnist_loader_test = DataLoader(dataset=mnist_set_test,batch_size=batch_size,shuffle=True)\n",
    "\n"
   ]
  },
  {
   "cell_type": "code",
   "execution_count": 19,
   "id": "ca688519",
   "metadata": {
    "execution": {
     "iopub.execute_input": "2023-12-06T19:04:09.193960Z",
     "iopub.status.busy": "2023-12-06T19:04:09.193601Z",
     "iopub.status.idle": "2023-12-06T19:04:09.206248Z",
     "shell.execute_reply": "2023-12-06T19:04:09.205165Z"
    },
    "papermill": {
     "duration": 0.257476,
     "end_time": "2023-12-06T19:04:09.208293",
     "exception": false,
     "start_time": "2023-12-06T19:04:08.950817",
     "status": "completed"
    },
    "tags": []
   },
   "outputs": [],
   "source": [
    "# run a test with the test loader\n",
    "# run a test with the training data\n",
    "train_features_local, train_labels_local = next(iter(mnist_loader_test))\n",
    "train_features = train_features_local.to(device)\n",
    "train_labels   = train_labels_local.to(device)\n"
   ]
  },
  {
   "cell_type": "code",
   "execution_count": 20,
   "id": "086347a5",
   "metadata": {
    "execution": {
     "iopub.execute_input": "2023-12-06T19:04:09.698523Z",
     "iopub.status.busy": "2023-12-06T19:04:09.698117Z",
     "iopub.status.idle": "2023-12-06T19:04:10.397025Z",
     "shell.execute_reply": "2023-12-06T19:04:10.395870Z"
    },
    "papermill": {
     "duration": 0.947902,
     "end_time": "2023-12-06T19:04:10.399724",
     "exception": false,
     "start_time": "2023-12-06T19:04:09.451822",
     "status": "completed"
    },
    "tags": []
   },
   "outputs": [
    {
     "name": "stdout",
     "output_type": "stream",
     "text": [
      "tensor([7, 2, 6, 9, 5, 3, 1, 2, 6, 5, 3, 8, 2, 7, 2, 9, 1, 2, 6, 7, 8, 0, 5, 8,\n",
      "        2, 2, 0, 3, 8, 4, 1, 7])\n",
      "tensor([7, 2, 6, 9, 5, 3, 1, 2, 6, 5, 3, 8, 2, 7, 2, 9, 1, 2, 6, 7, 8, 0, 5, 8,\n",
      "        2, 2, 0, 3, 8, 4, 1, 7])\n"
     ]
    },
    {
     "data": {
      "image/png": "[encoded data removed]",
      "text/plain": [
       "<Figure size 1000x500 with 10 Axes>"
      ]
     },
     "metadata": {},
     "output_type": "display_data"
    }
   ],
   "source": [
    "with torch.no_grad():\n",
    "    model.eval()\n",
    "    output = model(train_features)\n",
    "    output = torch.softmax(output,dim=-1)\n",
    "    output = torch.argmax(output,dim=-1)\n",
    "    output_local = output.cpu()\n",
    "    print(output)\n",
    "    print(train_labels)\n",
    "    \n",
    "num_to_plot = 10\n",
    "fig, ax = plt.subplots(1,num_to_plot,figsize=(10,5))\n",
    "for i in range(num_to_plot):\n",
    "    \n",
    "    \n",
    "    ax[i].imshow(train_features_local[i].squeeze(),cmap='binary')\n",
    "    ax[i].set_title(f\"{train_labels_local[i].item()} : {output_local[i].item()}\")\n",
    "    ax[i].set_xticks([])\n",
    "    ax[i].set_yticks([])"
   ]
  },
  {
   "cell_type": "markdown",
   "id": "81832aa1",
   "metadata": {
    "papermill": {
     "duration": 0.305439,
     "end_time": "2023-12-06T19:04:10.945638",
     "exception": false,
     "start_time": "2023-12-06T19:04:10.640199",
     "status": "completed"
    },
    "tags": []
   },
   "source": [
    "## Evaluation\n"
   ]
  },
  {
   "cell_type": "code",
   "execution_count": 21,
   "id": "df0dd20b",
   "metadata": {
    "execution": {
     "iopub.execute_input": "2023-12-06T19:04:11.431042Z",
     "iopub.status.busy": "2023-12-06T19:04:11.430025Z",
     "iopub.status.idle": "2023-12-06T19:04:14.227300Z",
     "shell.execute_reply": "2023-12-06T19:04:14.226237Z"
    },
    "papermill": {
     "duration": 3.042646,
     "end_time": "2023-12-06T19:04:14.229534",
     "exception": false,
     "start_time": "2023-12-06T19:04:11.186888",
     "status": "completed"
    },
    "tags": []
   },
   "outputs": [
    {
     "name": "stdout",
     "output_type": "stream",
     "text": [
      "Total: 10000, Correct: 9909, Incorrect: 91\n",
      "Accuracy: 0.9909\n",
      "Error rate: 0.0091\n"
     ]
    }
   ],
   "source": [
    "total_count = 0\n",
    "correct_count = 0\n",
    "# for debugging:\n",
    "incorrect_count = 0\n",
    "\n",
    "#batch_size\n",
    "\n",
    "#temp_cutoff = 300\n",
    "\n",
    "for images_local,labels_local in mnist_loader_test:\n",
    "    #if total_count > temp_cutoff:\n",
    "    #    break\n",
    "    with torch.no_grad():\n",
    "        images = images_local.to(device)\n",
    "        labels = labels_local.to(device)\n",
    "        #images, labels = batch\n",
    "        model.eval()\n",
    "        output = model(images)\n",
    "        output = torch.softmax(output,dim=-1)\n",
    "        output = torch.argmax(output,dim=-1)\n",
    "        output_local = output.cpu()\n",
    "        #print(output)\n",
    "        #print(labels_local)\n",
    "        \n",
    "        total_count += output_local.shape[0]\n",
    "        # probably a more efficient way to do this\n",
    "        \n",
    "        comparison = torch.eq(output,labels)\n",
    "        #print(comparison)\n",
    "        comparison_sum = torch.sum(comparison)\n",
    "        #print(comparison_sum)\n",
    "        correct_count += comparison_sum.item()\n",
    "        incorrect_count += (labels.shape[0] - comparison_sum.item())\n",
    "        \n",
    "        #for i in output_local.shape[0]:\n",
    "            #if torch.equal(output_local[i],\n",
    "print(f\"Total: {total_count}, Correct: {correct_count}, Incorrect: {incorrect_count}\")\n",
    "print(f\"Accuracy: {1.0*correct_count / total_count}\")\n",
    "print(f\"Error rate: {1.0*incorrect_count / total_count}\")\n"
   ]
  }
 ],
 "metadata": {
  "kaggle": {
   "accelerator": "none",
   "dataSources": [],
   "isGpuEnabled": false,
   "isInternetEnabled": true,
   "language": "python",
   "sourceType": "notebook"
  },
  "kernelspec": {
   "display_name": "Python 3",
   "language": "python",
   "name": "python3"
  },
  "language_info": {
   "codemirror_mode": {
    "name": "ipython",
    "version": 3
   },
   "file_extension": ".py",
   "mimetype": "text/x-python",
   "name": "python",
   "nbconvert_exporter": "python",
   "pygments_lexer": "ipython3",
   "version": "3.10.12"
  },
  "papermill": {
   "default_parameters": {},
   "duration": 1373.453358,
   "end_time": "2023-12-06T19:04:15.498097",
   "environment_variables": {},
   "exception": null,
   "input_path": "__notebook__.ipynb",
   "output_path": "__notebook__.ipynb",
   "parameters": {},
   "start_time": "2023-12-06T18:41:22.044739",
   "version": "2.4.0"
  }
 },
 "nbformat": 4,
 "nbformat_minor": 5
}
