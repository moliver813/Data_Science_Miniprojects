{
 "cells": [
  {
   "cell_type": "markdown",
   "id": "6327a060",
   "metadata": {
    "papermill": {
     "duration": 0.011557,
     "end_time": "2023-12-05T05:01:30.501767",
     "exception": false,
     "start_time": "2023-12-05T05:01:30.490210",
     "status": "completed"
    },
    "tags": []
   },
   "source": [
    "# MNIST Practice\n",
    "\n",
    "## Goals\n",
    "* Use PyTorch to do a somewhat basic classifier"
   ]
  },
  {
   "cell_type": "code",
   "execution_count": 1,
   "id": "7ad669a2",
   "metadata": {
    "_cell_guid": "b1076dfc-b9ad-4769-8c92-a6c4dae69d19",
    "_uuid": "8f2839f25d086af736a60e9eeb907d3b93b6e0e5",
    "execution": {
     "iopub.execute_input": "2023-12-05T05:01:30.518503Z",
     "iopub.status.busy": "2023-12-05T05:01:30.517795Z",
     "iopub.status.idle": "2023-12-05T05:01:36.447913Z",
     "shell.execute_reply": "2023-12-05T05:01:36.446868Z"
    },
    "papermill": {
     "duration": 5.941786,
     "end_time": "2023-12-05T05:01:36.450651",
     "exception": false,
     "start_time": "2023-12-05T05:01:30.508865",
     "status": "completed"
    },
    "tags": []
   },
   "outputs": [],
   "source": [
    "import numpy as np # linear algebra\n",
    "import pandas as pd # data processing, CSV file I/O (e.g. pd.read_csv)\n",
    "import seaborn as sns\n",
    "import matplotlib.pyplot as plt\n",
    "import os\n",
    "import torch\n",
    "import torch.nn as nn\n",
    "import torch.optim as optim\n",
    "import torch.nn.functional as F\n",
    "import torchvision\n",
    "import torchvision.transforms as transforms\n",
    "from torch.utils.data import DataLoader"
   ]
  },
  {
   "cell_type": "code",
   "execution_count": 2,
   "id": "d0336917",
   "metadata": {
    "execution": {
     "iopub.execute_input": "2023-12-05T05:01:36.466976Z",
     "iopub.status.busy": "2023-12-05T05:01:36.464876Z",
     "iopub.status.idle": "2023-12-05T05:01:36.471341Z",
     "shell.execute_reply": "2023-12-05T05:01:36.470175Z"
    },
    "papermill": {
     "duration": 0.017741,
     "end_time": "2023-12-05T05:01:36.474374",
     "exception": false,
     "start_time": "2023-12-05T05:01:36.456633",
     "status": "completed"
    },
    "tags": []
   },
   "outputs": [],
   "source": [
    "num_labels = 10 # for for each digit\n",
    "\n",
    "num_epochs = 100"
   ]
  },
  {
   "cell_type": "code",
   "execution_count": 3,
   "id": "129b50c9",
   "metadata": {
    "execution": {
     "iopub.execute_input": "2023-12-05T05:01:36.488102Z",
     "iopub.status.busy": "2023-12-05T05:01:36.487672Z",
     "iopub.status.idle": "2023-12-05T05:01:36.495697Z",
     "shell.execute_reply": "2023-12-05T05:01:36.494013Z"
    },
    "papermill": {
     "duration": 0.018191,
     "end_time": "2023-12-05T05:01:36.499051",
     "exception": false,
     "start_time": "2023-12-05T05:01:36.480860",
     "status": "completed"
    },
    "tags": []
   },
   "outputs": [
    {
     "name": "stdout",
     "output_type": "stream",
     "text": [
      "Using cpu device\n"
     ]
    }
   ],
   "source": [
    "# Check the device information\n",
    "device = (\n",
    "    \"cuda\"\n",
    "    if torch.cuda.is_available()\n",
    "    else \"mps\"\n",
    "    if torch.backends.mps.is_available()\n",
    "    else \"cpu\"\n",
    ")\n",
    "print(f\"Using {device} device\")"
   ]
  },
  {
   "cell_type": "markdown",
   "id": "ea05a70d",
   "metadata": {
    "papermill": {
     "duration": 0.008615,
     "end_time": "2023-12-05T05:01:36.516913",
     "exception": false,
     "start_time": "2023-12-05T05:01:36.508298",
     "status": "completed"
    },
    "tags": []
   },
   "source": [
    "## Getting the data\n"
   ]
  },
  {
   "cell_type": "code",
   "execution_count": 4,
   "id": "9045fc48",
   "metadata": {
    "execution": {
     "iopub.execute_input": "2023-12-05T05:01:36.531318Z",
     "iopub.status.busy": "2023-12-05T05:01:36.530949Z",
     "iopub.status.idle": "2023-12-05T05:01:38.322653Z",
     "shell.execute_reply": "2023-12-05T05:01:38.321519Z"
    },
    "papermill": {
     "duration": 1.800872,
     "end_time": "2023-12-05T05:01:38.324505",
     "exception": false,
     "start_time": "2023-12-05T05:01:36.523633",
     "status": "completed"
    },
    "tags": []
   },
   "outputs": [
    {
     "name": "stdout",
     "output_type": "stream",
     "text": [
      "Downloading http://yann.lecun.com/exdb/mnist/train-images-idx3-ubyte.gz\n",
      "Downloading http://yann.lecun.com/exdb/mnist/train-images-idx3-ubyte.gz to data_train/MNIST/raw/train-images-idx3-ubyte.gz\n"
     ]
    },
    {
     "name": "stderr",
     "output_type": "stream",
     "text": [
      "100%|██████████| 9912422/9912422 [00:00<00:00, 101884272.34it/s]\n"
     ]
    },
    {
     "name": "stdout",
     "output_type": "stream",
     "text": [
      "Extracting data_train/MNIST/raw/train-images-idx3-ubyte.gz to data_train/MNIST/raw\n",
      "\n",
      "Downloading http://yann.lecun.com/exdb/mnist/train-labels-idx1-ubyte.gz\n",
      "Downloading http://yann.lecun.com/exdb/mnist/train-labels-idx1-ubyte.gz to data_train/MNIST/raw/train-labels-idx1-ubyte.gz\n"
     ]
    },
    {
     "name": "stderr",
     "output_type": "stream",
     "text": [
      "100%|██████████| 28881/28881 [00:00<00:00, 62216586.45it/s]\n"
     ]
    },
    {
     "name": "stdout",
     "output_type": "stream",
     "text": [
      "Extracting data_train/MNIST/raw/train-labels-idx1-ubyte.gz to data_train/MNIST/raw\n",
      "\n",
      "Downloading http://yann.lecun.com/exdb/mnist/t10k-images-idx3-ubyte.gz\n",
      "Downloading http://yann.lecun.com/exdb/mnist/t10k-images-idx3-ubyte.gz to data_train/MNIST/raw/t10k-images-idx3-ubyte.gz\n"
     ]
    },
    {
     "name": "stderr",
     "output_type": "stream",
     "text": [
      "100%|██████████| 1648877/1648877 [00:00<00:00, 24341787.85it/s]\n"
     ]
    },
    {
     "name": "stdout",
     "output_type": "stream",
     "text": [
      "Extracting data_train/MNIST/raw/t10k-images-idx3-ubyte.gz to data_train/MNIST/raw\n",
      "\n",
      "Downloading http://yann.lecun.com/exdb/mnist/t10k-labels-idx1-ubyte.gz\n",
      "Downloading http://yann.lecun.com/exdb/mnist/t10k-labels-idx1-ubyte.gz to data_train/MNIST/raw/t10k-labels-idx1-ubyte.gz\n"
     ]
    },
    {
     "name": "stderr",
     "output_type": "stream",
     "text": [
      "100%|██████████| 4542/4542 [00:00<00:00, 16963961.50it/s]\n"
     ]
    },
    {
     "name": "stdout",
     "output_type": "stream",
     "text": [
      "Extracting data_train/MNIST/raw/t10k-labels-idx1-ubyte.gz to data_train/MNIST/raw\n",
      "\n",
      "Downloading http://yann.lecun.com/exdb/mnist/train-images-idx3-ubyte.gz\n",
      "Downloading http://yann.lecun.com/exdb/mnist/train-images-idx3-ubyte.gz to data_test/MNIST/raw/train-images-idx3-ubyte.gz\n"
     ]
    },
    {
     "name": "stderr",
     "output_type": "stream",
     "text": [
      "100%|██████████| 9912422/9912422 [00:00<00:00, 93363105.52it/s]\n"
     ]
    },
    {
     "name": "stdout",
     "output_type": "stream",
     "text": [
      "Extracting data_test/MNIST/raw/train-images-idx3-ubyte.gz to data_test/MNIST/raw\n",
      "\n",
      "Downloading http://yann.lecun.com/exdb/mnist/train-labels-idx1-ubyte.gz\n",
      "Downloading http://yann.lecun.com/exdb/mnist/train-labels-idx1-ubyte.gz to data_test/MNIST/raw/train-labels-idx1-ubyte.gz\n"
     ]
    },
    {
     "name": "stderr",
     "output_type": "stream",
     "text": [
      "100%|██████████| 28881/28881 [00:00<00:00, 54639464.96it/s]\n"
     ]
    },
    {
     "name": "stdout",
     "output_type": "stream",
     "text": [
      "Extracting data_test/MNIST/raw/train-labels-idx1-ubyte.gz to data_test/MNIST/raw\n",
      "\n",
      "Downloading http://yann.lecun.com/exdb/mnist/t10k-images-idx3-ubyte.gz\n",
      "Downloading http://yann.lecun.com/exdb/mnist/t10k-images-idx3-ubyte.gz to data_test/MNIST/raw/t10k-images-idx3-ubyte.gz\n"
     ]
    },
    {
     "name": "stderr",
     "output_type": "stream",
     "text": [
      "100%|██████████| 1648877/1648877 [00:00<00:00, 25410843.49it/s]\n"
     ]
    },
    {
     "name": "stdout",
     "output_type": "stream",
     "text": [
      "Extracting data_test/MNIST/raw/t10k-images-idx3-ubyte.gz to data_test/MNIST/raw\n",
      "\n",
      "Downloading http://yann.lecun.com/exdb/mnist/t10k-labels-idx1-ubyte.gz\n",
      "Downloading http://yann.lecun.com/exdb/mnist/t10k-labels-idx1-ubyte.gz to data_test/MNIST/raw/t10k-labels-idx1-ubyte.gz\n"
     ]
    },
    {
     "name": "stderr",
     "output_type": "stream",
     "text": [
      "100%|██████████| 4542/4542 [00:00<00:00, 21722381.72it/s]"
     ]
    },
    {
     "name": "stdout",
     "output_type": "stream",
     "text": [
      "Extracting data_test/MNIST/raw/t10k-labels-idx1-ubyte.gz to data_test/MNIST/raw\n",
      "\n"
     ]
    },
    {
     "name": "stderr",
     "output_type": "stream",
     "text": [
      "\n"
     ]
    }
   ],
   "source": [
    "transform = transforms.Compose([\n",
    "    transforms.ToTensor(),\n",
    "    transforms.Normalize((0.5,),(0.5)) # map data set from 0-255 to -0.5-0.5\n",
    "])\n",
    "\n",
    "os.makedirs('data_train',exist_ok=True)\n",
    "\n",
    "# Need to verify that the training and other datasets are non-overlapping\n",
    "\n",
    "# torchvision.datasets.MNIST(root: str, train: bool = True, transform: Optional[Callable] = None, target_transform: Optional[Callable] = None, download: bool = False)\n",
    "mnist_set = torchvision.datasets.MNIST(root=\"data_train\",train=True,download=True,transform=transform)\n",
    "\n",
    "os.makedirs('data_test',exist_ok=True)\n",
    "mnist_set_test = torchvision.datasets.MNIST(root=\"data_test\",train=False,download=True,transform=transform)\n",
    "\n"
   ]
  },
  {
   "cell_type": "code",
   "execution_count": 5,
   "id": "52ac23c7",
   "metadata": {
    "execution": {
     "iopub.execute_input": "2023-12-05T05:01:38.341975Z",
     "iopub.status.busy": "2023-12-05T05:01:38.341589Z",
     "iopub.status.idle": "2023-12-05T05:01:38.346577Z",
     "shell.execute_reply": "2023-12-05T05:01:38.345866Z"
    },
    "papermill": {
     "duration": 0.016447,
     "end_time": "2023-12-05T05:01:38.348691",
     "exception": false,
     "start_time": "2023-12-05T05:01:38.332244",
     "status": "completed"
    },
    "tags": []
   },
   "outputs": [],
   "source": [
    "# Data Loader\n",
    "batch_size = 32\n",
    "mnist_loader = DataLoader(dataset=mnist_set,batch_size=batch_size,shuffle=True)"
   ]
  },
  {
   "cell_type": "code",
   "execution_count": 6,
   "id": "1166d441",
   "metadata": {
    "execution": {
     "iopub.execute_input": "2023-12-05T05:01:38.366125Z",
     "iopub.status.busy": "2023-12-05T05:01:38.365730Z",
     "iopub.status.idle": "2023-12-05T05:01:38.991313Z",
     "shell.execute_reply": "2023-12-05T05:01:38.989960Z"
    },
    "papermill": {
     "duration": 0.638495,
     "end_time": "2023-12-05T05:01:38.995193",
     "exception": false,
     "start_time": "2023-12-05T05:01:38.356698",
     "status": "completed"
    },
    "tags": []
   },
   "outputs": [
    {
     "name": "stdout",
     "output_type": "stream",
     "text": [
      "tensor([6, 3, 7, 6, 9, 0, 4, 8, 4, 3, 3, 0, 1, 0, 3, 0, 0, 4, 3, 6, 6, 3, 3, 5,\n",
      "        3, 4, 1, 5, 6, 8, 7, 1])\n",
      "torch.Size([32, 1, 28, 28])\n",
      "tensor([-1.0000, -1.0000, -1.0000, -1.0000, -1.0000, -1.0000,  0.9843,  0.9765,\n",
      "         0.9765, -0.1529, -1.0000, -1.0000, -1.0000, -1.0000, -1.0000, -0.6706,\n",
      "         0.7333,  0.9765,  0.9843,  0.9765,  0.9765,  0.9765,  0.9843,  0.9765,\n",
      "         0.8510, -0.5137, -1.0000, -1.0000])\n",
      "28\n"
     ]
    },
    {
     "data": {
      "image/png": "[encoded data removed]",
      "text/plain": [
       "<Figure size 1000x500 with 10 Axes>"
      ]
     },
     "metadata": {},
     "output_type": "display_data"
    }
   ],
   "source": [
    "train_features, train_labels = next(iter(mnist_loader))\n",
    "print(train_labels)\n",
    "print(train_features.shape)\n",
    "print(train_features[0][0][13])\n",
    "\n",
    "image_size = train_features.shape[2]\n",
    "print(image_size)\n",
    "\n",
    "num_to_plot = 10\n",
    "fig, ax = plt.subplots(1,num_to_plot,figsize=(10,5))\n",
    "for i in range(num_to_plot):\n",
    "    ax[i].imshow(train_features[i].squeeze(),cmap='binary')\n",
    "    ax[i].set_title(train_labels[i].item())\n",
    "    ax[i].set_xticks([])\n",
    "    ax[i].set_yticks([])"
   ]
  },
  {
   "cell_type": "code",
   "execution_count": 7,
   "id": "b8bee688",
   "metadata": {
    "execution": {
     "iopub.execute_input": "2023-12-05T05:01:39.019264Z",
     "iopub.status.busy": "2023-12-05T05:01:39.018240Z",
     "iopub.status.idle": "2023-12-05T05:01:39.022536Z",
     "shell.execute_reply": "2023-12-05T05:01:39.021508Z"
    },
    "papermill": {
     "duration": 0.017598,
     "end_time": "2023-12-05T05:01:39.025340",
     "exception": false,
     "start_time": "2023-12-05T05:01:39.007742",
     "status": "completed"
    },
    "tags": []
   },
   "outputs": [],
   "source": [
    "#count = 0\n",
    "#for batch in mnist_loader:\n",
    "#    images, labels = batch\n",
    "#    break\n"
   ]
  },
  {
   "cell_type": "markdown",
   "id": "ee7232e2",
   "metadata": {
    "papermill": {
     "duration": 0.009693,
     "end_time": "2023-12-05T05:01:39.045026",
     "exception": false,
     "start_time": "2023-12-05T05:01:39.035333",
     "status": "completed"
    },
    "tags": []
   },
   "source": [
    "## Planning Notes\n",
    "* Should use a neural network with 10 output nodes, linear output. This gets plugged into the the logistic function, giving the probability for each.\n",
    "* What about normalizing the output so that each output, after applying the logistic function"
   ]
  },
  {
   "cell_type": "code",
   "execution_count": 8,
   "id": "04c694f9",
   "metadata": {
    "execution": {
     "iopub.execute_input": "2023-12-05T05:01:39.068569Z",
     "iopub.status.busy": "2023-12-05T05:01:39.067339Z",
     "iopub.status.idle": "2023-12-05T05:01:39.101575Z",
     "shell.execute_reply": "2023-12-05T05:01:39.100384Z"
    },
    "papermill": {
     "duration": 0.048739,
     "end_time": "2023-12-05T05:01:39.104381",
     "exception": false,
     "start_time": "2023-12-05T05:01:39.055642",
     "status": "completed"
    },
    "tags": []
   },
   "outputs": [
    {
     "name": "stdout",
     "output_type": "stream",
     "text": [
      "<class 'torch.Tensor'>\n",
      "tensor(4.6169, grad_fn=<SumBackward1>)\n"
     ]
    }
   ],
   "source": [
    "# useful for one-hot encoding the truth variables\n",
    "# identity_tensor = torch.eye(num_labels)\n",
    "\n",
    "\n",
    "# from this: https://neuralthreads.medium.com/categorical-cross-entropy-loss-the-most-important-loss-function-d3792151d05b\n",
    "# it seems like there is potential for optimization by explicitly giving the analytical \n",
    "\n",
    "debug_cat = False\n",
    "# mimicking the from_logits variable from TF\n",
    "#\n",
    "def CatCrossEntropy(result,truth,from_logits=True):\n",
    "    \"\"\"\n",
    "     Args:\n",
    "        result (tensor): Results from the model, to be compared to the truth (batch_dim,num_labels)\n",
    "        truth (tensor): Target of the model (batch_dim,)\n",
    "        from_logits (bool): If true, assume linear input. If false, assume logistic function already applied\n",
    " \n",
    "    \"\"\"\n",
    "    if (debug_cat):\n",
    "        print(result)\n",
    "        print(truth)\n",
    "    batch_size = result.shape[0]\n",
    "    total = 0\n",
    "    if from_logits:\n",
    "        softmaxed_input = torch.softmax(result,dim=-1) # apply along the last dimension\n",
    "    else:\n",
    "        softmaxed_input = result\n",
    "    if debug_cat:\n",
    "        print(\"Sum of softmax\")\n",
    "        print(torch.sum(softmaxed_input,dim=1))\n",
    "        \n",
    "    #log_truth = torch.log(truth)\n",
    "    # encode truth as one-hot\n",
    "    truth_one_hot = torch.zeros((batch_size,num_labels)).to(device)\n",
    "    # would it be faster to have one tensor that is always on the device?\n",
    "    for i in range(batch_size):\n",
    "        truth_val = int(truth[i])\n",
    "        truth_one_hot[i][truth_val] = 1.0\n",
    "    if debug_cat:\n",
    "        print(\"Tensors to multiply\")\n",
    "        print(softmaxed_input)\n",
    "        print(truth_one_hot)\n",
    "    \n",
    "    # sum up -truth_one_hot * log(softmax_input)\n",
    "    total = - torch.sum(truth_one_hot*torch.log(softmaxed_input),dim=[1])\n",
    "    # sum up over batch\n",
    "    total = torch.sum(total,dim=[0])\n",
    "    \n",
    "    return total\n",
    "\n",
    "\n",
    "test_tensor1 = torch.tensor([[0.,1.,2.,3.,4.,5.,6.,7.,8.,9.,],\n",
    "                             [0.,0.,0.,0.,0.,5.,0.,0.,0.,0.5,],\n",
    "                             [0.5,0.5,0.5,0.5,0.5,5.,0.5,0.5,0.5,0.5,]],requires_grad=True) # mimicking a linear output\n",
    "test_tensor2 = torch.tensor([5,5,5]) # mimicking a truth label\n",
    "#load to device\n",
    "test_tensor1 = test_tensor1.to(device)\n",
    "test_tensor2 = test_tensor2.to(device)\n",
    "\n",
    "test_entropy = CatCrossEntropy(test_tensor1,test_tensor2)\n",
    "print(type(test_entropy))\n",
    "print(test_entropy)"
   ]
  },
  {
   "cell_type": "code",
   "execution_count": null,
   "id": "bbf31eb4",
   "metadata": {
    "papermill": {
     "duration": 0.010031,
     "end_time": "2023-12-05T05:01:39.124887",
     "exception": false,
     "start_time": "2023-12-05T05:01:39.114856",
     "status": "completed"
    },
    "tags": []
   },
   "outputs": [],
   "source": []
  },
  {
   "cell_type": "markdown",
   "id": "1e2d1622",
   "metadata": {
    "papermill": {
     "duration": 0.008924,
     "end_time": "2023-12-05T05:01:39.146300",
     "exception": false,
     "start_time": "2023-12-05T05:01:39.137376",
     "status": "completed"
    },
    "tags": []
   },
   "source": [
    "## Buiding the Model"
   ]
  },
  {
   "cell_type": "code",
   "execution_count": 9,
   "id": "1857c5b1",
   "metadata": {
    "execution": {
     "iopub.execute_input": "2023-12-05T05:01:39.166199Z",
     "iopub.status.busy": "2023-12-05T05:01:39.165822Z",
     "iopub.status.idle": "2023-12-05T05:01:39.172628Z",
     "shell.execute_reply": "2023-12-05T05:01:39.171632Z"
    },
    "papermill": {
     "duration": 0.018932,
     "end_time": "2023-12-05T05:01:39.174703",
     "exception": false,
     "start_time": "2023-12-05T05:01:39.155771",
     "status": "completed"
    },
    "tags": []
   },
   "outputs": [],
   "source": [
    "class MyNeuralNetwork(nn.Module):\n",
    "    def __init__(self):\n",
    "        super().__init__()\n",
    "        self.conv1 = nn.Conv2d(1,12,(3,3))\n",
    "        self.pool = nn.MaxPool2d(2, 2)\n",
    "        self.conv2 = nn.Conv2d(12,24,(3,3))\n",
    "        self.linear_relu_stack = nn.Sequential(\n",
    "            nn.Linear(24*5*5,25), # don't know if this size is right\n",
    "            nn.ReLU(),\n",
    "            nn.Linear(25,20),\n",
    "            nn.ReLU(),\n",
    "            nn.Linear(20,10),\n",
    "        )\n",
    "    def forward(self,x):\n",
    "        #x = x.squeeze() \n",
    "        x = self.pool(F.relu(self.conv1(x)))\n",
    "        x = self.pool(F.relu(self.conv2(x)))\n",
    "        x = torch.flatten(x, 1)\n",
    "        x = self.linear_relu_stack(x)\n",
    "        return x\n",
    "    \n",
    "    "
   ]
  },
  {
   "cell_type": "code",
   "execution_count": 10,
   "id": "f9cfb743",
   "metadata": {
    "execution": {
     "iopub.execute_input": "2023-12-05T05:01:39.193952Z",
     "iopub.status.busy": "2023-12-05T05:01:39.193519Z",
     "iopub.status.idle": "2023-12-05T05:01:39.207865Z",
     "shell.execute_reply": "2023-12-05T05:01:39.206564Z"
    },
    "papermill": {
     "duration": 0.026663,
     "end_time": "2023-12-05T05:01:39.210003",
     "exception": false,
     "start_time": "2023-12-05T05:01:39.183340",
     "status": "completed"
    },
    "tags": []
   },
   "outputs": [
    {
     "name": "stdout",
     "output_type": "stream",
     "text": [
      "MyNeuralNetwork(\n",
      "  (conv1): Conv2d(1, 12, kernel_size=(3, 3), stride=(1, 1))\n",
      "  (pool): MaxPool2d(kernel_size=2, stride=2, padding=0, dilation=1, ceil_mode=False)\n",
      "  (conv2): Conv2d(12, 24, kernel_size=(3, 3), stride=(1, 1))\n",
      "  (linear_relu_stack): Sequential(\n",
      "    (0): Linear(in_features=600, out_features=25, bias=True)\n",
      "    (1): ReLU()\n",
      "    (2): Linear(in_features=25, out_features=20, bias=True)\n",
      "    (3): ReLU()\n",
      "    (4): Linear(in_features=20, out_features=10, bias=True)\n",
      "  )\n",
      ")\n"
     ]
    }
   ],
   "source": [
    "torch.manual_seed(0)\n",
    "model = MyNeuralNetwork().to(device)\n",
    "print(model)"
   ]
  },
  {
   "cell_type": "code",
   "execution_count": 11,
   "id": "acde22f1",
   "metadata": {
    "execution": {
     "iopub.execute_input": "2023-12-05T05:01:39.228785Z",
     "iopub.status.busy": "2023-12-05T05:01:39.228413Z",
     "iopub.status.idle": "2023-12-05T05:01:39.234687Z",
     "shell.execute_reply": "2023-12-05T05:01:39.233084Z"
    },
    "papermill": {
     "duration": 0.018607,
     "end_time": "2023-12-05T05:01:39.237398",
     "exception": false,
     "start_time": "2023-12-05T05:01:39.218791",
     "status": "completed"
    },
    "tags": []
   },
   "outputs": [],
   "source": [
    "from torch.optim.lr_scheduler import ExponentialLR"
   ]
  },
  {
   "cell_type": "code",
   "execution_count": 12,
   "id": "011f0d11",
   "metadata": {
    "execution": {
     "iopub.execute_input": "2023-12-05T05:01:39.256846Z",
     "iopub.status.busy": "2023-12-05T05:01:39.256502Z",
     "iopub.status.idle": "2023-12-05T05:01:39.263188Z",
     "shell.execute_reply": "2023-12-05T05:01:39.261021Z"
    },
    "papermill": {
     "duration": 0.019579,
     "end_time": "2023-12-05T05:01:39.265977",
     "exception": false,
     "start_time": "2023-12-05T05:01:39.246398",
     "status": "completed"
    },
    "tags": []
   },
   "outputs": [],
   "source": [
    "#criterion = nn.MSELoss()\n",
    "criterion = CatCrossEntropy\n",
    "optimizer = optim.SGD(model.parameters(), lr=0.005)\n",
    "scheduler = ExponentialLR(optimizer, gamma=0.995)\n",
    "num_epochs = 10"
   ]
  },
  {
   "cell_type": "code",
   "execution_count": 13,
   "id": "143e6d07",
   "metadata": {
    "execution": {
     "iopub.execute_input": "2023-12-05T05:01:39.286954Z",
     "iopub.status.busy": "2023-12-05T05:01:39.285624Z",
     "iopub.status.idle": "2023-12-05T05:05:19.093517Z",
     "shell.execute_reply": "2023-12-05T05:05:19.092594Z"
    },
    "papermill": {
     "duration": 219.820692,
     "end_time": "2023-12-05T05:05:19.096215",
     "exception": false,
     "start_time": "2023-12-05T05:01:39.275523",
     "status": "completed"
    },
    "tags": []
   },
   "outputs": [
    {
     "name": "stdout",
     "output_type": "stream",
     "text": [
      "Epoch 1, batch 100, Loss: 27.1165\n",
      "Epoch 1, batch 200, Loss: 5.8114\n",
      "Epoch 1, batch 300, Loss: 5.5192\n",
      "Epoch 1, batch 400, Loss: 5.2346\n",
      "Epoch 1, batch 500, Loss: 0.4600\n",
      "Epoch 1, batch 600, Loss: 2.0597\n",
      "Epoch 1, batch 700, Loss: 2.4303\n",
      "Epoch 1, batch 800, Loss: 3.8785\n",
      "Epoch 1, batch 900, Loss: 1.3938\n",
      "Epoch 1, batch 1000, Loss: 3.3711\n",
      "Epoch 1, batch 1100, Loss: 0.1528\n",
      "Epoch 1, batch 1200, Loss: 2.1286\n",
      "Epoch 1, batch 1300, Loss: 7.3640\n",
      "Epoch 1, batch 1400, Loss: 1.8613\n",
      "Epoch 1, batch 1500, Loss: 0.7401\n",
      "Epoch 1, batch 1600, Loss: 6.6476\n",
      "Epoch 1, batch 1700, Loss: 1.9807\n",
      "Epoch 1, batch 1800, Loss: 0.1720\n",
      "Epoch 2, batch 100, Loss: 1.8024\n",
      "Epoch 2, batch 200, Loss: 3.2964\n",
      "Epoch 2, batch 300, Loss: 0.4298\n",
      "Epoch 2, batch 400, Loss: 5.1729\n",
      "Epoch 2, batch 500, Loss: 2.7683\n",
      "Epoch 2, batch 600, Loss: 0.2368\n",
      "Epoch 2, batch 700, Loss: 0.4146\n",
      "Epoch 2, batch 800, Loss: 0.0480\n",
      "Epoch 2, batch 900, Loss: 0.0678\n",
      "Epoch 2, batch 1000, Loss: 0.6671\n",
      "Epoch 2, batch 1100, Loss: 3.5518\n",
      "Epoch 2, batch 1200, Loss: 1.4591\n",
      "Epoch 2, batch 1300, Loss: 0.0637\n",
      "Epoch 2, batch 1400, Loss: 5.4015\n",
      "Epoch 2, batch 1500, Loss: 2.8349\n",
      "Epoch 2, batch 1600, Loss: 7.5297\n",
      "Epoch 2, batch 1700, Loss: 1.5337\n",
      "Epoch 2, batch 1800, Loss: 3.2709\n",
      "Epoch 3, batch 100, Loss: 3.6901\n",
      "Epoch 3, batch 200, Loss: 0.4007\n",
      "Epoch 3, batch 300, Loss: 1.9396\n",
      "Epoch 3, batch 400, Loss: 0.4936\n",
      "Epoch 3, batch 500, Loss: 0.4598\n",
      "Epoch 3, batch 600, Loss: 0.4511\n",
      "Epoch 3, batch 700, Loss: 0.0976\n",
      "Epoch 3, batch 800, Loss: 2.8217\n",
      "Epoch 3, batch 900, Loss: 0.0942\n",
      "Epoch 3, batch 1000, Loss: 0.7673\n",
      "Epoch 3, batch 1100, Loss: 0.1232\n",
      "Epoch 3, batch 1200, Loss: 6.1011\n",
      "Epoch 3, batch 1300, Loss: 0.2732\n",
      "Epoch 3, batch 1400, Loss: 6.5605\n",
      "Epoch 3, batch 1500, Loss: 0.9038\n",
      "Epoch 3, batch 1600, Loss: 0.0533\n",
      "Epoch 3, batch 1700, Loss: 0.5423\n",
      "Epoch 3, batch 1800, Loss: 0.0672\n",
      "Epoch 4, batch 100, Loss: 1.2053\n",
      "Epoch 4, batch 200, Loss: 0.1915\n",
      "Epoch 4, batch 300, Loss: 0.7242\n",
      "Epoch 4, batch 400, Loss: 0.1893\n",
      "Epoch 4, batch 500, Loss: 0.1848\n",
      "Epoch 4, batch 600, Loss: 0.0564\n",
      "Epoch 4, batch 700, Loss: 0.2053\n",
      "Epoch 4, batch 800, Loss: 0.0340\n",
      "Epoch 4, batch 900, Loss: 0.1822\n",
      "Epoch 4, batch 1000, Loss: 0.9069\n",
      "Epoch 4, batch 1100, Loss: 0.0280\n",
      "Epoch 4, batch 1200, Loss: 2.5096\n",
      "Epoch 4, batch 1300, Loss: 1.8808\n",
      "Epoch 4, batch 1400, Loss: 0.9588\n",
      "Epoch 4, batch 1500, Loss: 0.6233\n",
      "Epoch 4, batch 1600, Loss: 2.2024\n",
      "Epoch 4, batch 1700, Loss: 0.7384\n",
      "Epoch 4, batch 1800, Loss: 0.0248\n",
      "Epoch 5, batch 100, Loss: 0.1382\n",
      "Epoch 5, batch 200, Loss: 1.7455\n",
      "Epoch 5, batch 300, Loss: 0.1972\n",
      "Epoch 5, batch 400, Loss: 5.1482\n",
      "Epoch 5, batch 500, Loss: 0.1503\n",
      "Epoch 5, batch 600, Loss: 0.1645\n",
      "Epoch 5, batch 700, Loss: 3.2605\n",
      "Epoch 5, batch 800, Loss: 0.0375\n",
      "Epoch 5, batch 900, Loss: 0.0136\n",
      "Epoch 5, batch 1000, Loss: 0.0192\n",
      "Epoch 5, batch 1100, Loss: 0.2246\n",
      "Epoch 5, batch 1200, Loss: 0.0122\n",
      "Epoch 5, batch 1300, Loss: 0.0964\n",
      "Epoch 5, batch 1400, Loss: 0.8255\n",
      "Epoch 5, batch 1500, Loss: 0.0250\n",
      "Epoch 5, batch 1600, Loss: 0.4187\n",
      "Epoch 5, batch 1700, Loss: 0.0044\n",
      "Epoch 5, batch 1800, Loss: 0.0962\n",
      "Epoch 5, Loss: 0.7983\n",
      "Epoch 6, batch 100, Loss: 0.7786\n",
      "Epoch 6, batch 200, Loss: 0.1357\n",
      "Epoch 6, batch 300, Loss: 1.0047\n",
      "Epoch 6, batch 400, Loss: 2.5021\n",
      "Epoch 6, batch 500, Loss: 1.1656\n",
      "Epoch 6, batch 600, Loss: 1.4064\n",
      "Epoch 6, batch 700, Loss: 0.0342\n",
      "Epoch 6, batch 800, Loss: 0.0307\n",
      "Epoch 6, batch 900, Loss: 0.5734\n",
      "Epoch 6, batch 1000, Loss: 0.0207\n",
      "Epoch 6, batch 1100, Loss: 0.0143\n",
      "Epoch 6, batch 1200, Loss: 0.0078\n",
      "Epoch 6, batch 1300, Loss: 4.7000\n",
      "Epoch 6, batch 1400, Loss: 0.0250\n",
      "Epoch 6, batch 1500, Loss: 0.1265\n",
      "Epoch 6, batch 1600, Loss: 0.6635\n",
      "Epoch 6, batch 1700, Loss: 0.1314\n",
      "Epoch 6, batch 1800, Loss: 0.5277\n",
      "Epoch 7, batch 100, Loss: 0.0189\n",
      "Epoch 7, batch 200, Loss: 0.7226\n",
      "Epoch 7, batch 300, Loss: 0.1079\n",
      "Epoch 7, batch 400, Loss: 0.3128\n",
      "Epoch 7, batch 500, Loss: 0.0143\n",
      "Epoch 7, batch 600, Loss: 0.2632\n",
      "Epoch 7, batch 700, Loss: 2.0035\n",
      "Epoch 7, batch 800, Loss: 0.0333\n",
      "Epoch 7, batch 900, Loss: 0.0256\n",
      "Epoch 7, batch 1000, Loss: 0.4970\n",
      "Epoch 7, batch 1100, Loss: 0.0096\n",
      "Epoch 7, batch 1200, Loss: 0.0171\n",
      "Epoch 7, batch 1300, Loss: 0.5782\n",
      "Epoch 7, batch 1400, Loss: 0.0287\n",
      "Epoch 7, batch 1500, Loss: 3.6600\n",
      "Epoch 7, batch 1600, Loss: 0.0081\n",
      "Epoch 7, batch 1700, Loss: 0.5823\n",
      "Epoch 7, batch 1800, Loss: 0.0493\n",
      "Epoch 8, batch 100, Loss: 0.2654\n",
      "Epoch 8, batch 200, Loss: 0.0415\n",
      "Epoch 8, batch 300, Loss: 0.0046\n",
      "Epoch 8, batch 400, Loss: 0.0351\n",
      "Epoch 8, batch 500, Loss: 0.0909\n",
      "Epoch 8, batch 600, Loss: 3.0888\n",
      "Epoch 8, batch 700, Loss: 0.0139\n",
      "Epoch 8, batch 800, Loss: 0.1556\n",
      "Epoch 8, batch 900, Loss: 0.3515\n",
      "Epoch 8, batch 1000, Loss: 0.9286\n",
      "Epoch 8, batch 1100, Loss: 0.0525\n",
      "Epoch 8, batch 1200, Loss: 0.0083\n",
      "Epoch 8, batch 1300, Loss: 0.0308\n",
      "Epoch 8, batch 1400, Loss: 0.0177\n",
      "Epoch 8, batch 1500, Loss: 0.0122\n",
      "Epoch 8, batch 1600, Loss: 1.0052\n",
      "Epoch 8, batch 1700, Loss: 2.3961\n",
      "Epoch 8, batch 1800, Loss: 0.0063\n",
      "Epoch 9, batch 100, Loss: 0.1956\n",
      "Epoch 9, batch 200, Loss: 0.0305\n",
      "Epoch 9, batch 300, Loss: 0.0150\n",
      "Epoch 9, batch 400, Loss: 0.3856\n",
      "Epoch 9, batch 500, Loss: 0.9122\n",
      "Epoch 9, batch 600, Loss: 0.0292\n",
      "Epoch 9, batch 700, Loss: 0.3683\n",
      "Epoch 9, batch 800, Loss: 0.0346\n",
      "Epoch 9, batch 900, Loss: 0.0049\n",
      "Epoch 9, batch 1000, Loss: 0.1435\n",
      "Epoch 9, batch 1100, Loss: 0.0123\n",
      "Epoch 9, batch 1200, Loss: 1.1619\n",
      "Epoch 9, batch 1300, Loss: 0.0006\n",
      "Epoch 9, batch 1400, Loss: 6.3923\n",
      "Epoch 9, batch 1500, Loss: 0.0141\n",
      "Epoch 9, batch 1600, Loss: 0.1551\n",
      "Epoch 9, batch 1700, Loss: 0.3229\n",
      "Epoch 9, batch 1800, Loss: 2.5848\n",
      "Epoch 10, batch 100, Loss: 0.8765\n",
      "Epoch 10, batch 200, Loss: 3.9814\n",
      "Epoch 10, batch 300, Loss: 0.0187\n",
      "Epoch 10, batch 400, Loss: 0.0207\n",
      "Epoch 10, batch 500, Loss: 1.2555\n",
      "Epoch 10, batch 600, Loss: 0.0024\n",
      "Epoch 10, batch 700, Loss: 0.0309\n",
      "Epoch 10, batch 800, Loss: 0.0015\n",
      "Epoch 10, batch 900, Loss: 0.0226\n",
      "Epoch 10, batch 1000, Loss: 0.0319\n",
      "Epoch 10, batch 1100, Loss: 0.1394\n",
      "Epoch 10, batch 1200, Loss: 1.9326\n",
      "Epoch 10, batch 1300, Loss: 0.0070\n",
      "Epoch 10, batch 1400, Loss: 0.0038\n",
      "Epoch 10, batch 1500, Loss: 0.0280\n",
      "Epoch 10, batch 1600, Loss: 0.4428\n",
      "Epoch 10, batch 1700, Loss: 0.9396\n",
      "Epoch 10, batch 1800, Loss: 0.0256\n",
      "Epoch 10, Loss: 0.0389\n"
     ]
    }
   ],
   "source": [
    "print_steps = 5\n",
    "print_steps_batch = 100\n",
    "\n",
    "# note that this is currently saved at the batch level, not the epoch\n",
    "loss_train_list = []\n",
    "lr_list = []\n",
    "for epoch in range(num_epochs):\n",
    "    batch_count = 0\n",
    "    for images,labels in mnist_loader:\n",
    "        images = images.to(device)\n",
    "        labels = labels.to(device)\n",
    "        #images, labels = batch\n",
    "        model.train()\n",
    "        output = model(images)\n",
    "        \n",
    "        loss = criterion(output,labels).to(device)\n",
    "        loss_train_list.append(loss.item())\n",
    "        \n",
    "        optimizer.zero_grad()\n",
    "        loss.backward()\n",
    "        optimizer.step()\n",
    "        \n",
    "        lr_list.append(scheduler.get_last_lr())\n",
    "        \n",
    "        if (batch_count + 1) % (print_steps_batch) == 0:\n",
    "            print(f\"Epoch {epoch+1}, batch {batch_count + 1}, Loss: {loss.item():.4f}\")\n",
    "        \n",
    "        batch_count += 1\n",
    "    if (epoch + 1) % print_steps == 0:\n",
    "        print(f\"Epoch {epoch+1}, Loss: {loss.item():.4f}\")\n",
    "        \n",
    "    scheduler.step() # try stepping the schedulear at the epoch level\n",
    "        \n"
   ]
  },
  {
   "cell_type": "code",
   "execution_count": 14,
   "id": "7537d0c4",
   "metadata": {
    "execution": {
     "iopub.execute_input": "2023-12-05T05:05:19.138183Z",
     "iopub.status.busy": "2023-12-05T05:05:19.137778Z",
     "iopub.status.idle": "2023-12-05T05:05:19.400525Z",
     "shell.execute_reply": "2023-12-05T05:05:19.399189Z"
    },
    "papermill": {
     "duration": 0.28716,
     "end_time": "2023-12-05T05:05:19.402597",
     "exception": false,
     "start_time": "2023-12-05T05:05:19.115437",
     "status": "completed"
    },
    "tags": []
   },
   "outputs": [
    {
     "data": {
      "text/plain": [
       "[<matplotlib.lines.Line2D at 0x7d4ae654ed40>]"
      ]
     },
     "execution_count": 14,
     "metadata": {},
     "output_type": "execute_result"
    },
    {
     "data": {
      "image/png": "[encoded data removed]",
      "text/plain": [
       "<Figure size 640x480 with 1 Axes>"
      ]
     },
     "metadata": {},
     "output_type": "display_data"
    }
   ],
   "source": [
    "plt.plot(loss_train_list)"
   ]
  },
  {
   "cell_type": "code",
   "execution_count": 15,
   "id": "402557ff",
   "metadata": {
    "execution": {
     "iopub.execute_input": "2023-12-05T05:05:19.446112Z",
     "iopub.status.busy": "2023-12-05T05:05:19.445337Z",
     "iopub.status.idle": "2023-12-05T05:05:19.461200Z",
     "shell.execute_reply": "2023-12-05T05:05:19.459570Z"
    },
    "papermill": {
     "duration": 0.041685,
     "end_time": "2023-12-05T05:05:19.463704",
     "exception": false,
     "start_time": "2023-12-05T05:05:19.422019",
     "status": "completed"
    },
    "tags": []
   },
   "outputs": [],
   "source": [
    "# run a test with the training data\n",
    "train_features_local, train_labels_local = next(iter(mnist_loader))\n",
    "train_features = train_features_local.to(device)\n",
    "train_labels   = train_labels_local.to(device)\n"
   ]
  },
  {
   "cell_type": "code",
   "execution_count": 16,
   "id": "96cbea86",
   "metadata": {
    "execution": {
     "iopub.execute_input": "2023-12-05T05:05:19.566124Z",
     "iopub.status.busy": "2023-12-05T05:05:19.565574Z",
     "iopub.status.idle": "2023-12-05T05:05:20.028913Z",
     "shell.execute_reply": "2023-12-05T05:05:20.028066Z"
    },
    "papermill": {
     "duration": 0.48721,
     "end_time": "2023-12-05T05:05:20.030927",
     "exception": false,
     "start_time": "2023-12-05T05:05:19.543717",
     "status": "completed"
    },
    "tags": []
   },
   "outputs": [
    {
     "name": "stdout",
     "output_type": "stream",
     "text": [
      "tensor([3, 5, 0, 8, 0, 2, 9, 3, 5, 7, 4, 1, 8, 0, 4, 9, 6, 7, 1, 2, 8, 1, 3, 6,\n",
      "        8, 2, 8, 7, 0, 6, 1, 7])\n",
      "tensor([3, 5, 0, 8, 0, 2, 9, 3, 5, 7, 4, 1, 8, 0, 4, 9, 6, 7, 1, 2, 8, 1, 3, 6,\n",
      "        8, 2, 8, 7, 0, 6, 1, 7])\n"
     ]
    },
    {
     "data": {
      "image/png": "[encoded data removed]",
      "text/plain": [
       "<Figure size 1000x500 with 10 Axes>"
      ]
     },
     "metadata": {},
     "output_type": "display_data"
    }
   ],
   "source": [
    "with torch.no_grad():\n",
    "    model.eval()\n",
    "    output = model(train_features)\n",
    "    output = torch.softmax(output,dim=-1)\n",
    "    output = torch.argmax(output,dim=-1)\n",
    "    output_local = output.cpu()\n",
    "    print(output)\n",
    "    print(train_labels)\n",
    "    \n",
    "num_to_plot = 10\n",
    "fig, ax = plt.subplots(1,num_to_plot,figsize=(10,5))\n",
    "for i in range(num_to_plot):\n",
    "    \n",
    "    \n",
    "    ax[i].imshow(train_features_local[i].squeeze(),cmap='binary')\n",
    "    ax[i].set_title(f\"{train_labels_local[i].item()} : {output_local[i].item()}\")\n",
    "    ax[i].set_xticks([])\n",
    "    ax[i].set_yticks([])"
   ]
  },
  {
   "cell_type": "code",
   "execution_count": 17,
   "id": "3d0f52c7",
   "metadata": {
    "execution": {
     "iopub.execute_input": "2023-12-05T05:05:20.085391Z",
     "iopub.status.busy": "2023-12-05T05:05:20.084871Z",
     "iopub.status.idle": "2023-12-05T05:05:20.089190Z",
     "shell.execute_reply": "2023-12-05T05:05:20.087981Z"
    },
    "papermill": {
     "duration": 0.031621,
     "end_time": "2023-12-05T05:05:20.091771",
     "exception": false,
     "start_time": "2023-12-05T05:05:20.060150",
     "status": "completed"
    },
    "tags": []
   },
   "outputs": [],
   "source": [
    "# Test\n",
    "\n",
    "# Data Loader\n",
    "batch_size = 32\n",
    "mnist_loader_test = DataLoader(dataset=mnist_set_test,batch_size=batch_size,shuffle=True)\n",
    "\n"
   ]
  },
  {
   "cell_type": "code",
   "execution_count": 18,
   "id": "0d86e78b",
   "metadata": {
    "execution": {
     "iopub.execute_input": "2023-12-05T05:05:20.138969Z",
     "iopub.status.busy": "2023-12-05T05:05:20.138556Z",
     "iopub.status.idle": "2023-12-05T05:05:20.151614Z",
     "shell.execute_reply": "2023-12-05T05:05:20.149952Z"
    },
    "papermill": {
     "duration": 0.039811,
     "end_time": "2023-12-05T05:05:20.154309",
     "exception": false,
     "start_time": "2023-12-05T05:05:20.114498",
     "status": "completed"
    },
    "tags": []
   },
   "outputs": [],
   "source": [
    "# run a test with the test loader\n",
    "# run a test with the training data\n",
    "train_features_local, train_labels_local = next(iter(mnist_loader_test))\n",
    "train_features = train_features_local.to(device)\n",
    "train_labels   = train_labels_local.to(device)\n"
   ]
  },
  {
   "cell_type": "code",
   "execution_count": 19,
   "id": "017e11bd",
   "metadata": {
    "execution": {
     "iopub.execute_input": "2023-12-05T05:05:20.200678Z",
     "iopub.status.busy": "2023-12-05T05:05:20.200275Z",
     "iopub.status.idle": "2023-12-05T05:05:20.659641Z",
     "shell.execute_reply": "2023-12-05T05:05:20.658925Z"
    },
    "papermill": {
     "duration": 0.485366,
     "end_time": "2023-12-05T05:05:20.661934",
     "exception": false,
     "start_time": "2023-12-05T05:05:20.176568",
     "status": "completed"
    },
    "tags": []
   },
   "outputs": [
    {
     "name": "stdout",
     "output_type": "stream",
     "text": [
      "tensor([7, 7, 3, 8, 9, 3, 0, 4, 4, 5, 4, 1, 8, 3, 9, 9, 0, 7, 9, 5, 2, 8, 0, 9,\n",
      "        9, 5, 5, 7, 8, 1, 9, 8])\n",
      "tensor([7, 7, 3, 8, 9, 3, 0, 4, 4, 5, 4, 1, 8, 3, 9, 9, 0, 7, 9, 5, 2, 8, 0, 9,\n",
      "        9, 5, 5, 7, 8, 7, 9, 8])\n"
     ]
    },
    {
     "data": {
      "image/png": "[encoded data removed]",
      "text/plain": [
       "<Figure size 1000x500 with 10 Axes>"
      ]
     },
     "metadata": {},
     "output_type": "display_data"
    }
   ],
   "source": [
    "with torch.no_grad():\n",
    "    model.eval()\n",
    "    output = model(train_features)\n",
    "    output = torch.softmax(output,dim=-1)\n",
    "    output = torch.argmax(output,dim=-1)\n",
    "    output_local = output.cpu()\n",
    "    print(output)\n",
    "    print(train_labels)\n",
    "    \n",
    "num_to_plot = 10\n",
    "fig, ax = plt.subplots(1,num_to_plot,figsize=(10,5))\n",
    "for i in range(num_to_plot):\n",
    "    \n",
    "    \n",
    "    ax[i].imshow(train_features_local[i].squeeze(),cmap='binary')\n",
    "    ax[i].set_title(f\"{train_labels_local[i].item()} : {output_local[i].item()}\")\n",
    "    ax[i].set_xticks([])\n",
    "    ax[i].set_yticks([])"
   ]
  },
  {
   "cell_type": "markdown",
   "id": "f14a66df",
   "metadata": {
    "papermill": {
     "duration": 0.022616,
     "end_time": "2023-12-05T05:05:20.711920",
     "exception": false,
     "start_time": "2023-12-05T05:05:20.689304",
     "status": "completed"
    },
    "tags": []
   },
   "source": [
    "## Evaluation\n"
   ]
  },
  {
   "cell_type": "code",
   "execution_count": 20,
   "id": "26896b20",
   "metadata": {
    "execution": {
     "iopub.execute_input": "2023-12-05T05:05:20.754656Z",
     "iopub.status.busy": "2023-12-05T05:05:20.754226Z",
     "iopub.status.idle": "2023-12-05T05:05:23.267956Z",
     "shell.execute_reply": "2023-12-05T05:05:23.266124Z"
    },
    "papermill": {
     "duration": 2.537935,
     "end_time": "2023-12-05T05:05:23.270052",
     "exception": false,
     "start_time": "2023-12-05T05:05:20.732117",
     "status": "completed"
    },
    "tags": []
   },
   "outputs": [
    {
     "name": "stdout",
     "output_type": "stream",
     "text": [
      "Total: 10000, Correct: 9892, Incorrect: 108\n",
      "Accuracy: 0.9892\n",
      "Error rate: 0.0108\n"
     ]
    }
   ],
   "source": [
    "total_count = 0\n",
    "correct_count = 0\n",
    "# for debugging:\n",
    "incorrect_count = 0\n",
    "\n",
    "#batch_size\n",
    "\n",
    "#temp_cutoff = 300\n",
    "\n",
    "for images_local,labels_local in mnist_loader_test:\n",
    "    #if total_count > temp_cutoff:\n",
    "    #    break\n",
    "    with torch.no_grad():\n",
    "        images = images_local.to(device)\n",
    "        labels = labels_local.to(device)\n",
    "        #images, labels = batch\n",
    "        model.eval()\n",
    "        output = model(images)\n",
    "        output = torch.softmax(output,dim=-1)\n",
    "        output = torch.argmax(output,dim=-1)\n",
    "        output_local = output.cpu()\n",
    "        #print(output)\n",
    "        #print(labels_local)\n",
    "        \n",
    "        total_count += output_local.shape[0]\n",
    "        # probably a more efficient way to do this\n",
    "        \n",
    "        comparison = torch.eq(output,labels)\n",
    "        #print(comparison)\n",
    "        comparison_sum = torch.sum(comparison)\n",
    "        #print(comparison_sum)\n",
    "        correct_count += comparison_sum.item()\n",
    "        incorrect_count += (labels.shape[0] - comparison_sum.item())\n",
    "        \n",
    "        #for i in output_local.shape[0]:\n",
    "            #if torch.equal(output_local[i],\n",
    "print(f\"Total: {total_count}, Correct: {correct_count}, Incorrect: {incorrect_count}\")\n",
    "print(f\"Accuracy: {1.0*correct_count / total_count}\")\n",
    "print(f\"Error rate: {1.0*incorrect_count / total_count}\")\n"
   ]
  }
 ],
 "metadata": {
  "kaggle": {
   "accelerator": "none",
   "dataSources": [],
   "dockerImageVersionId": 30588,
   "isGpuEnabled": false,
   "isInternetEnabled": true,
   "language": "python",
   "sourceType": "notebook"
  },
  "kernelspec": {
   "display_name": "Python 3",
   "language": "python",
   "name": "python3"
  },
  "language_info": {
   "codemirror_mode": {
    "name": "ipython",
    "version": 3
   },
   "file_extension": ".py",
   "mimetype": "text/x-python",
   "name": "python",
   "nbconvert_exporter": "python",
   "pygments_lexer": "ipython3",
   "version": "3.10.12"
  },
  "papermill": {
   "default_parameters": {},
   "duration": 236.821395,
   "end_time": "2023-12-05T05:05:24.518100",
   "environment_variables": {},
   "exception": null,
   "input_path": "__notebook__.ipynb",
   "output_path": "__notebook__.ipynb",
   "parameters": {},
   "start_time": "2023-12-05T05:01:27.696705",
   "version": "2.4.0"
  }
 },
 "nbformat": 4,
 "nbformat_minor": 5
}
